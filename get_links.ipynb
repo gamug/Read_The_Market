{
 "cells": [
  {
   "cell_type": "code",
   "execution_count": 1,
   "metadata": {},
   "outputs": [],
   "source": [
    "import datetime, json, time, re, traceback\n",
    "from tqdm import tqdm\n",
    "from duckduckgo_search import DDGS\n",
    "from selenium import webdriver\n",
    "from selenium.webdriver.firefox.options import Options\n",
    "import pandas as pd\n",
    "\n",
    "companies  = [\n",
    "    \"Ecopetrol\", \"Enel\", \"Grupo Argos\", \"Terpel\", \"Vanti\", \"Promigas\", \"Bancolombia\", \"BBVA\", \"Grupo AVAL\", \"Davivienda\", \"Credibanco\",\n",
    "    \"Grupo Sura\", \"Itau\", \"Nequi\", \"Grupo Exito\", \"Cencosud\", \"Tiendas D1\", \"Alkosto\", \"Falabella\", \"Sodimac\", \"Caracol\", \"Empresa Claro\", \"ETB\",\n",
    "    'GeoPark', 'Empresa Brilla', 'Banco de Occidente', 'Cenit'\n",
    "    ]\n",
    "sources = ['larepublica', 'semana', 'eltiempo', 'lasillavacia', 'elcolombiano', 'portafolio', 'elespectador']\n",
    "sources_links = {\n",
    "    'semana': 'semana.com', 'larepublica': 'larepublica.co', 'eltiempo': 'eltiempo.com', 'lasillavacia': 'lasillavacia.com',\n",
    "    'elcolombiano': 'elcolombiano.com', 'portafolio': 'portafolio.co', 'elespectador': 'elespectador.com'\n",
    "    }\n",
    "\n",
    "def api_search(company, source, sources_links, sleep):\n",
    "    results = DDGS().text(\n",
    "                    keywords=f'{company} site:{sources_links[source]}',\n",
    "                    max_results=10,\n",
    "                    safesearch='off',\n",
    "                    timelimit='w'\n",
    "                    )\n",
    "    time.sleep(3)\n",
    "    return results\n",
    "\n",
    "def selenium_search(driver, company, source, sources_links):\n",
    "    driver.get(f'https://duckduckgo.com/?q={company}+site%3A{sources_links[source]}&t=h_&df=w&ia=web')\n",
    "    time.sleep(1) # give page a chance to fully load\n",
    "    content = driver.page_source\n",
    "    links = pd.Series(re.findall(f'(<a href=\".*?\" rel)', content, flags=re.IGNORECASE))\n",
    "    links = links.str.replace('<a href=', '').str.replace('\"', '').str.replace(' rel', '').drop_duplicates()\n",
    "    links = links[links.str.contains('https\\://www.+', regex=True, case=False)]\n",
    "    return links\n",
    "\n",
    "def get_news_links(companies, sources, sources_links):\n",
    "    search_results = {}\n",
    "    pbar = tqdm(total=len(companies)*len(sources))\n",
    "    driver = webdriver.Chrome()\n",
    "    try:\n",
    "        for source in sources:\n",
    "            aux = {}\n",
    "            for company in companies:\n",
    "                pbar.update(1)\n",
    "                pbar.set_description(f'source:{source}-company:{company}')\n",
    "                results = selenium_search(driver, company, source, sources_links)\n",
    "                if len(results):\n",
    "                    if isinstance(results, dict):\n",
    "                        aux[company] = [json_['href'] for json_ in results]\n",
    "                    else:\n",
    "                        aux[company] = results\n",
    "            if len(aux):\n",
    "                search_results[source] = aux\n",
    "        pbar.close()\n",
    "        driver.quit()\n",
    "        week_number = datetime.datetime.now().isocalendar()[1]\n",
    "        with open(f'engine_search/week_{week_number}.json', 'w') as f:\n",
    "            json.dump(search_results, f)\n",
    "        return search_results\n",
    "    except Exception:\n",
    "        traceback.print_exc()\n",
    "        print('failed scraping...')\n",
    "        pbar.close()\n",
    "        driver.quit()"
   ]
  },
  {
   "cell_type": "code",
   "execution_count": 2,
   "metadata": {},
   "outputs": [
    {
     "name": "stderr",
     "output_type": "stream",
     "text": [
      "source:elespectador-company:Grupo Exito:  94%|█████████▎| 177/189 [07:18<00:28,  2.37s/it]       "
     ]
    }
   ],
   "source": [
    "search_results = get_news_links(companies, sources, sources_links)"
   ]
  },
  {
   "cell_type": "code",
   "execution_count": 26,
   "metadata": {},
   "outputs": [
    {
     "data": {
      "text/plain": [
       "TypeError('string indices must be integers')"
      ]
     },
     "execution_count": 26,
     "metadata": {},
     "output_type": "execute_result"
    }
   ],
   "source": [
    "search_results"
   ]
  }
 ],
 "metadata": {
  "kernelspec": {
   "display_name": "Python 3",
   "language": "python",
   "name": "python3"
  },
  "language_info": {
   "codemirror_mode": {
    "name": "ipython",
    "version": 3
   },
   "file_extension": ".py",
   "mimetype": "text/x-python",
   "name": "python",
   "nbconvert_exporter": "python",
   "pygments_lexer": "ipython3",
   "version": "3.10.0"
  }
 },
 "nbformat": 4,
 "nbformat_minor": 2
}
