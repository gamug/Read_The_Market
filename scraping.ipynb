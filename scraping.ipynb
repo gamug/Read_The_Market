{
 "cells": [
  {
   "cell_type": "code",
   "execution_count": 30,
   "metadata": {},
   "outputs": [],
   "source": [
    "import html2text, re, time, tqdm\n",
    "from datetime import datetime\n",
    "from langchain.document_loaders import AsyncHtmlLoader\n",
    "from langchain.document_transformers import Html2TextTransformer\n",
    "from transformers import AutoModel\n",
    "from numpy.linalg import norm\n",
    "import pandas as pd\n",
    "\n",
    "async def do_webscraping(link):\n",
    "    try:\n",
    "        urls = [link]\n",
    "        loader = AsyncHtmlLoader(urls)\n",
    "        docs = loader.load()\n",
    "\n",
    "        html2text_transformer = Html2TextTransformer()\n",
    "        docs_transformed = html2text_transformer.transform_documents(docs)\n",
    "\n",
    "        if docs_transformed != None and len(docs_transformed) > 0:\n",
    "            metadata = docs_transformed[0].metadata\n",
    "            title = metadata.get('title', '')\n",
    "            return {\n",
    "                'summary': docs_transformed[0].page_content,\n",
    "                'title': title,\n",
    "                'metadata': metadata,\n",
    "                'clean_content': html2text.html2text(docs_transformed[0].page_content)\n",
    "            }\n",
    "        else:\n",
    "            return None\n",
    "\n",
    "    except Exception as e:\n",
    "        print(f\"An unexpected error occurred: {e}\")\n",
    "        return None"
   ]
  },
  {
   "cell_type": "code",
   "execution_count": 5,
   "metadata": {},
   "outputs": [
    {
     "name": "stdout",
     "output_type": "stream",
     "text": [
      "https://caracol.com.co/2024/07/01/ante-deficit-ecopetrol-estaria-negociando-para-importar-gas-natural-licuado-desde-eeuu/\n"
     ]
    },
    {
     "name": "stderr",
     "output_type": "stream",
     "text": [
      "Fetching pages: 100%|##########| 1/1 [00:00<00:00,  1.64it/s]\n"
     ]
    },
    {
     "name": "stdout",
     "output_type": "stream",
     "text": [
      "https://www.elcolombiano.com/negocios/fracking-estados-unidos-ecopetrol-negocia-gas-natural-con-estados-unidos-BG24887475\n"
     ]
    },
    {
     "name": "stderr",
     "output_type": "stream",
     "text": [
      "Fetching pages: 100%|##########| 1/1 [00:00<00:00,  1.42it/s]\n"
     ]
    },
    {
     "name": "stdout",
     "output_type": "stream",
     "text": [
      "https://www.lafm.com.co/economia/ecopetrol-esta-en-negociaciones-para-importar-gas-a-estados-unidos\n"
     ]
    },
    {
     "name": "stderr",
     "output_type": "stream",
     "text": [
      "Fetching pages: 100%|##########| 1/1 [00:00<00:00,  1.30it/s]\n"
     ]
    },
    {
     "name": "stdout",
     "output_type": "stream",
     "text": [
      "https://www.pulzo.com/economia/ecopetrol-haria-negocio-con-estados-unidos-crisis-gas-colombia-PP3756548A\n"
     ]
    },
    {
     "name": "stderr",
     "output_type": "stream",
     "text": [
      "Fetching pages: 100%|##########| 1/1 [00:01<00:00,  1.08s/it]\n"
     ]
    },
    {
     "name": "stdout",
     "output_type": "stream",
     "text": [
      "https://www.infobae.com/colombia/2024/06/29/remezon-en-ecopetrol-se-avecinan-cambios-en-la-alta-gerencia-a-partir-del-1-de-julio/\n"
     ]
    },
    {
     "name": "stderr",
     "output_type": "stream",
     "text": [
      "Fetching pages: 100%|##########| 1/1 [00:00<00:00,  1.62it/s]\n"
     ]
    },
    {
     "name": "stdout",
     "output_type": "stream",
     "text": [
      "https://www.eltiempo.com/economia/empresas/los-cambios-en-la-alta-gerencia-de-ecopetrol-que-empezaran-a-regir-a-partir-del-1-de-julio-3357513\n"
     ]
    },
    {
     "name": "stderr",
     "output_type": "stream",
     "text": [
      "Fetching pages: 100%|##########| 1/1 [00:00<00:00,  1.68it/s]\n"
     ]
    },
    {
     "name": "stdout",
     "output_type": "stream",
     "text": [
      "https://www.valoraanalitik.com/ecopetrol-anuncia-nuevos-cambios-en-varias-vicepresidencias/\n"
     ]
    },
    {
     "name": "stderr",
     "output_type": "stream",
     "text": [
      "Fetching pages: 100%|##########| 1/1 [00:00<00:00,  2.40it/s]\n"
     ]
    },
    {
     "name": "stdout",
     "output_type": "stream",
     "text": [
      "https://www.pulzo.com/economia/ecopetrol-anuncio-cuatro-nuevos-cambios-con-cargos-importantes-compania-PP3755005A\n"
     ]
    },
    {
     "name": "stderr",
     "output_type": "stream",
     "text": [
      "Fetching pages: 100%|##########| 1/1 [00:00<00:00,  1.07it/s]\n"
     ]
    }
   ],
   "source": [
    "structured_response = []\n",
    "search_results = [\n",
    "  r'https://caracol.com.co/2024/07/01/ante-deficit-ecopetrol-estaria-negociando-para-importar-gas-natural-licuado-desde-eeuu/',\n",
    "  r'https://www.elcolombiano.com/negocios/fracking-estados-unidos-ecopetrol-negocia-gas-natural-con-estados-unidos-BG24887475',\n",
    "  r'https://www.lafm.com.co/economia/ecopetrol-esta-en-negociaciones-para-importar-gas-a-estados-unidos',\n",
    "  r'https://www.pulzo.com/economia/ecopetrol-haria-negocio-con-estados-unidos-crisis-gas-colombia-PP3756548A',\n",
    "  r'https://www.infobae.com/colombia/2024/06/29/remezon-en-ecopetrol-se-avecinan-cambios-en-la-alta-gerencia-a-partir-del-1-de-julio/',\n",
    "  r'https://www.eltiempo.com/economia/empresas/los-cambios-en-la-alta-gerencia-de-ecopetrol-que-empezaran-a-regir-a-partir-del-1-de-julio-3357513',\n",
    "  r'https://www.valoraanalitik.com/ecopetrol-anuncia-nuevos-cambios-en-varias-vicepresidencias/',\n",
    "  r'https://www.pulzo.com/economia/ecopetrol-anuncio-cuatro-nuevos-cambios-con-cargos-importantes-compania-PP3755005A'\n",
    "]\n",
    "for link in search_results:\n",
    "  print(link)\n",
    "  response = await do_webscraping(link)\n",
    "  if response != None:\n",
    "    structured_response.append(response)"
   ]
  },
  {
   "cell_type": "code",
   "execution_count": 6,
   "metadata": {},
   "outputs": [
    {
     "data": {
      "text/plain": [
       "{'summary': 'x\\n\\n  * bookmarkGuardados\\n  * graphic_eqPódcast\\n  * play_arrowVideos\\n  * photo_cameraReportajes gráficos\\n  * account_circleSuscríbete\\n\\npico y placa\\n\\nPico y Placa Medellín\\n\\n#### Pico y Placa Medellín\\n\\n## viernes\\n\\n7 y 9\\n\\n7 y 9\\n\\npico y placa\\n\\nPico y Placa Medellín\\n\\n#### Pico y Placa Medellín\\n\\n## jueves\\n\\n3 y 6\\n\\n3 y 6\\n\\npico y placa\\n\\nPico y Placa Medellín\\n\\n#### Pico y Placa Medellín\\n\\n## miercoles\\n\\n2 y 0\\n\\n2 y 0\\n\\npico y placa\\n\\nPico y Placa Medellín\\n\\n#### Pico y Placa Medellín\\n\\n## martes\\n\\n1 y 4\\n\\n1 y 4\\n\\npico y placa\\n\\nPico y Placa Medellín\\n\\n#### Pico y Placa Medellín\\n\\n## domingo\\n\\nno\\n\\nno\\n\\npico y placa\\n\\nPico y Placa Medellín\\n\\n#### Pico y Placa Medellín\\n\\n## sabado\\n\\nno\\n\\nno\\n\\npico y placa\\n\\nPico y Placa Medellín\\n\\n#### Pico y Placa Medellín\\n\\n## lunes\\n\\n5 y 8\\n\\n5 y 8\\n\\n  * search\\n  * account_circleMi Cuenta\\n  * bookmarkGuardados\\n  * descriptionPeriódico impreso\\n  * graphic_eqPódcast\\n  * play_arrowVideos\\n  * photo_cameraReportajes gráficos\\n\\nlanguage COL arrow_drop_down\\n\\n  * España\\n\\n  * settings Preferencias \\n  * search\\n\\ncancel\\n\\nmenu\\n\\nclose\\n\\ndiamond SUSCRÍBETE person INICIO DE SESIÓN\\n\\nEDICIÓN\\n\\nlanguage COL arrow_drop_down\\n\\n  * España\\n\\n## Secciones\\n\\n  * Medellín\\n  * Antioquia\\n  * Colombia\\n  * Mundo\\n  * Economía\\n  * Deportes\\n  * Opinión\\n  * Cultura\\n  * Tendencias\\n  * Tecnología\\n  * Entretenimiento\\n\\n### Explorar\\n\\n  * Especiales\\n  * Crucigrama\\n  * Horoscopo\\n  * Videos\\n  * Reportajes gráficos\\n  * Blogs\\n  * Podcast\\n  * Clasificados\\n  * Generación\\n  * Periódico Impreso\\n  * Parchetek\\n  * Marcas aliadas\\n\\nRegístrate a nuestro newsletter\\n\\n#### Nuestro Grupo\\n\\n  * Qhubo\\n  * Propiedades\\n  * Gente\\n  * Club intelecto\\n\\n  *   *   *   * \\n\\ncallContacto  live_helpPQR\\n\\nSuscríbete\\n\\n####  Economía\\n\\nEconomía\\n\\nEcopetrol\\n\\nHidrocarburos\\n\\nGas natural\\n\\nFracking\\n\\nReservas de gas\\n\\nGas\\n\\nColombia\\n\\nVenezuela\\n\\nEstados Unidos\\n\\nRicardo Roa\\n\\n#  ¡Las paradojas de la vida! Ecopetrol importaría gas de fracking de Estados\\nUnidos, pero acá el Gobierno frenó los pilotos\\n\\n## Exministra María Fernanda Suárez criticó la intención de Colombia de\\nimportar gas de fracking desde EE. UU., calificándola como “la mayor\\nestupidez”.\\n\\n  * Vanti alertó esta semana sobre la posible escasez temporal de gas natural por unos años desde 2025 si no se modifica la regulación vigente. FOTO: Colprensa. \\n\\n2024-06-30 15:40:10\\n\\n###### Miguel Orlando Alguero\\n\\n30 de junio de 2024\\n\\nbookmark Guardar\\n\\nHaz clic aquí para escuchar la noticia.\\n\\nEcopetrol está en conversaciones para adquirir gas natural licuado (GNL) en un\\nesfuerzo por**mitigar el riesgo de escasez de gas ante la disminución de la\\nproducción nacional** , hecho que ya advirtieron expertos y gremios del\\nsector.\\n\\nPor ejemplo, Vanti alertó esta semana sobre **la posible escasez temporal de\\ngas natural por unos años desde 2025** si no se modifica la regulación\\nvigente.\\n\\n> El presidente del Grupo Vanti, Rodolfo Anaya, agregó que **ya es un hecho\\n> que Colombia tendrá un déficit temporal que no se sabe cómo se cubrirá** , y\\n> **la necesidad de importar gas natural cuyos costos son más altos no es\\n> clara aún cómo y quién los va a asumir** , lo que va a tener consecuencias\\n> en los usuarios de gas natural en el país.\\n\\nPor ahora, **la petrolera estatal se enfoca en proveedores estadounidenses** ,\\nmientras considera la construcción de una nueva terminal de importación.\\n\\nUn informe de Bloomberg, citando a fuentes cercanas a las negociaciones,\\ndetalló que **Ecopetrol está explorando opciones en el mercado estadounidense\\nde gas natural licuado** , en un momento crítico para el suministro energético\\ndel país. “La reducción de la producción de gas en Colombia ha llevado a la\\nempresa a buscar alternativas para **garantizar el abastecimiento interno en\\nlos próximos años** ”.\\n\\nEn medio de estos nuevos detalles sobre las movidas de Ecopetrol, hay que\\nrecordar que la semana pasada, la compañía anunció su plan de abastecimiento\\nde gas natural para solventar ese faltante del energético.\\n\\nComunicó que **parte del déficit se cubrirá con la importación de gas de\\nVenezuela, una opción que a la hora de la verdad causa malestar en el sector\\nprivado** , además de ser una alternativa que está en el aire ante la ausencia\\nde una licencia especial que ni siquiera depende de entidades colombianas.\\n\\nSin embargo, Bloomberg aseveró que **la petrolera tiene su interés en el gas\\nnatural licuado de Estados Unidos, que surge debido a su disponibilidad y\\ncapacidad de exportación** , lo que podría ofrecer a Colombia una solución\\nrápida y eficiente frente a la inminente escasez proyectada.\\n\\nAdemás, la **posible construcción de una segunda terminal de importación en el\\npaís subraya la intención de Ecopetrol de fortalecer su infraestructura** para\\nasegurar un suministro energético estable y sostenible.\\n\\nAnte esto, la exministra de Minas y Energía, María Fernanda Suárez, expresó su\\npreocupación porque **Colombia cometerá “la mayor estupidez”** , ella se\\nrefiera a que e**l país dejó de hacer los pilotos de fracking, pero ahora\\nbusca gas de Estados Unidos que se extrae por esta técnica.**\\n\\n“Negligencia de no terminar los pilotos de fracking, porque la ideología y la\\npasión la anteponen a la ciencia... **Vamos a importar gas de Estados Unidos\\nproducido con técnica de fracturación hidráulica (fracking)** ”, detalló\\nSuárez.\\n\\n**Lea también:Así va la búsqueda de Colombia por sus minerales para la\\ntransición energética**\\n\\nPor lo que vaticinó que el resultado será: **sin seguridad energética y mayor\\npobreza** asegurada para los colombianos y más emisiones de carbono porque hay\\nque transportar el gas natural licuado.\\n\\nDatos de**la Asociación Colombiana de Petróleo y Gas (ACP) indican que el\\nfracking le representaría una oportunidad en generar ingresos fiscales por\\n$1,5 billones anuales (solo en regalías US$2.500 millones)** y un efecto\\nmultiplicador en impuestos locales asociados a la cadena de bienes y\\nservicios.\\n\\nPor el momento, los pilotos de Yacimientos No Convencionales (fracking) para\\nexplorar y explotar hidrocarburos en la zona del Magdalena Medio están\\nparados. **Ecopetrol lidera dos proyectos piloto: Kalé y Platero, con\\ninversiones de 76 millones y 56 millones de dólares, respectivamente.**\\n\\nAunque algunos ven el fracking como una respuesta a la demanda de energía,\\notros lo consideran riesgoso para la salud y el medioambiente. **El proceso\\nimplica fracturar rocas profundas para liberar gas metano.**\\n\\n**Lo que se sabe hasta ahora**\\n\\nSegún lo dicho por **el presidente de Ecopetrol, Ricardo Roa, es que el\\ndéficit es de alrededor de 83 pies cúbicos días en 2025.** Eso quiere decir\\nque el faltante equivale al 8% de la demanda nacional.\\n\\nLas cuentas de Gobierno para cubrir ese faltante son las siguientes:**se\\nespera que 61 pies cúbicos días sean cubiertos con opciones provenientes de\\ngas nacional.**\\n\\nContrario a lo revelado por Bloomberg, **el Gobierno insiste y está empecinado\\nen la opción de importar gas de Venezuela, a través del gasoducto Antonio\\nRicaurte.** De hecho, las cuentas de Ecopetrol proyectan un total de 100 Gbtud\\nsolo de gas importado que llegarían del vecino país y a través de sistemas de\\nregasificación y del gasoducto de la vecina nación.\\n\\n> “Hemos venido avanzando con Pdvsa Gas, Cenit, nuestra filial, en hacer un\\n> recorrido físico por toda la instalación en el tramo de Colombia, que **son\\n> cerca de 98 kilómetros, y se identificó que en una ventana de tiempo entre\\n> 10 y 14 meses podría estar el gasoducto en disposición física** ”, sostuvo\\n> Roa.\\n\\nSegún sus cuentas, **por ese gasoducto caben casi 300 millones de pies cúbicos\\ndía, pero la realidad es que se comenzaría con entre 30 y 50 millones de pies\\ncúbicos día.**\\n\\nNo obstante, hay que tener en cuenta que el propio presidente de Ecopetrol\\nreconoció que no se tratan de cuentas oficiales, sino de conversaciones\\ninformales que se han adelantado entre el Gobierno de Venezuela y Colombia.\\n\\n**¿Por qué se importa gas?**\\n\\nTres expertos consultados por este medio explicaron que la importación de gas\\ndesde Venezuela o cualquier otro país, como el que se trae desde Trinidad y\\nTobago,**es necesario para las termoeléctricas de la Costa Caribe.** El precio\\nde esa importación del vecino país no es claro, este es elemento de decisión.\\n\\nA su vez, **la producción actual de Chuchupa y los campos de gas de Sucre y\\nCórdoba no alcanza para suplir la demanda en Colombia.** Aunque hay gas\\nnatural sobrante en los campos del Piedemonte Llanero, como Cusiana y\\nCupiagua.\\n\\nEste no está disponible por varias razones: no existe capacidad de tratamiento\\npara extraerle el CO2, se necesita reinyectarlo para mantener la presión de\\nlos yacimientos, y tendría que voltearse el flujo (compresores), del gasoducto\\nBallenas - Barrancabermeja. Además, **este gas no está regulado, y ante una\\nsubasta, por la escasez, su precio sería superior al importado.** También\\nhabría que sumarle el costo de transporte.\\n\\nSobre lo anterior, el ingeniero de Petróleos Óscar Vanegas, consideró que\\ntanto Ecopetrol como el Gobierno Nacional creen que la Oficina de Control de\\nActivos (Ofac), del Departamento del Tesoro de Estados Unidos, permitirá,**en\\nla próxima licencia que emita (en reemplazo de la Licencia General 8M que\\nvence el próximo 16 de mayo), transacciones entre Pdvsa y la petrolera\\ncolombiana.**\\n\\n“Creo que ese permiso no se dará, ya que **la Ofac solo aprobará las\\ntransacciones esenciales que involucren a Pdvsa con ciertas entidades y\\nsubsidiarias petroleras estadounidenses** que operan en Venezuela”, estimó el\\nacadémico.\\n\\nA renglón seguido, Julio César Vera, presidente de la fundación Xua Energy,\\nreiteró que **dicha importación está supeditada a que Estados Unidos le\\notorgue un** _**waiver**_**(exención) a Ecopetrol,** que por ahora se sabe que\\nse solicitó, pero aún no se ha autorizado, para avanzar al respecto, de lo\\ncontrario no será viable.\\n\\n“**Lo deseable es que el país siga priorizando las fuentes locales de\\nabastecimiento** , evalúe y desarrolle a fondo el potencial que Colombia tiene\\nen cuencas como el Valle inferior del Magdalena, en Sinú - San Jacinto, en\\nCésar - Ranchería, el Piedemonte Llanero y por supuesto el _off shore_ caribe\\n(costa afuera), **de tal forma que nuestra seguridad energética no depende del\\nabastecimiento con producto importado** ”, advirtió el analista.\\n\\n**Lea también:Transición energética “a la colombiana”, la ACP revela detalles\\nde cómo el petróleo no es un obstáculo**\\n\\n**Cuáles son las medidas para mitigar la escasez**\\n\\nEn ese sentido, como lo detalló Bloomberg, Colombia está tomando medidas para\\nmitigar una posible escasez de gas en los próximos dos años, explorando la\\nconstrucción de una segunda terminal de importación de Gas Natural Licuado\\n(GNL).\\n\\nAdemás, se acentúa el interés particular en el GNL proveniente de Estados\\nUnidos, el mayor exportador mundial.**La cercanía geográfica entre ambos\\npaíses representa una ventaja estratégica para Colombia** , que busca asegurar\\nun suministro estable mientras ofrece a los comerciantes estadounidenses un\\nnuevo mercado para su exceso de carga.\\n\\n> “**Ecopetrol está evaluando propuestas de al menos diez empresas para\\n> desarrollar esta terminal independiente, con una fecha límite para la\\n> recepción de ofertas a principios de julio**. Se están considerando\\n> **volúmenes de hasta 0,6 millones de toneladas métricas al año** , lo que\\n> equivale a alrededor de ocho cargamentos de GNL, en un periodo que podría\\n> variar entre tres y siete años”, se lee en el informe de Bloomberg.\\n\\nSin embargo, **el principal desafío radica en encontrar un buque flotante\\nadecuado para el GNL, ya que la demanda de estos buques ha aumentado\\nconsiderablemente en Europa** desde la invasión de Ucrania en 2022. Este\\nfactor ha complicado el mercado de transporte de GNL, ya que los países\\neuropeos buscan reemplazar el gas ruso.\\n\\nSegún este medio especializado, los posibles sitios para la nueva terminal\\nestán siendo evaluados **tanto en la costa caribeña como en el lado pacífico\\nde Colombia.**\\n\\nAunque el desarrollo de **una terminal en la costa pacífica ha sido\\nconsiderado anteriormente, la falta de interés comercial ha frenado su\\navance.** La ubicación final y el cronograma de entrega dependerán de las\\ndecisiones iniciales sobre la infraestructura.\\n\\nAnte este panorama, el presidente del Grupo Vanti presentó una propuesta\\nregulatoria que puede servir, la cual se espera sea tenida en cuenta y **se\\naplique para cubrir los desafíos ante la inminente escasez de gas natural a\\npartir de 2025,** que contempla las siguientes acciones:\\n\\nLa primera se refiere a que **el productor de gas natural pueda, de forma\\ntemporal, ofrecer directamente el producto por un año, cubriendo\\nobligatoriamente los contratos** al 30 de noviembre próximo.\\n\\nEn segundo lugar, habilitar a los productores una alternativa opcional para\\nque diseñen productos conformados por una mezcla de fuentes de suministro.\\nLuego,**crear una estructura de precios que permita mantener y desarrollar\\ntodos los segmentos del mercado.**\\n\\n**Lea también:Upme va por el tercer intento para construir la planta de\\nregasificación del Pacífico, ¿será el definitivo?**\\n\\nTambién destacó**la aplicación de flexibilidad para los productores,\\nincluyendo la posibilidad de diferenciar precios por tipos de mercado.** En\\nquinto lugar, que los tenedores de contratos con vencimiento puedan aceptar\\ntotal o parcialmente esa oferta. Las partes definirán los puntos de entrega y\\nen caso de que queden cantidades excedentarias, el productor los ofrecerá\\nlibremente a nuevos solicitantes.\\n\\nPor último, para **la comercialización del 2025, el productor podrá lanzar\\nofertas a largo plazo.**\\n\\nHay que tener en cuenta que, de acuerdo con los análisis que ha desarrollado\\nEcopetrol,**se tendría un déficit entre 70 y 100 millones de pies cúbicos por\\ndía para el 2025** , que implica utilizar, basado en una evaluación de costo-\\ntiempo-beneficio, todas las opciones posibles para cubrir dicho diferencial y\\n**claramente la importación de Venezuela es una de las alternativas, además de\\naumentar las importaciones a través de la planta de regasificación de\\nCartagena.**\\n\\n**Aumento en exportaciones de GNL**\\n\\nLuego de esta panorama, es necesario ponerle la lupa a este energético que\\nsale de Estados Unidos. Por ejemplo, el reciente informe del Departamento de\\nEnergía de Estados Unidos, con corte a marzo de 2024, **reportó que las\\nexportaciones de gas natural licuado (GNL) alcanzaron los 369,9 mil millones\\nde pies cúbicos, un aumento del 0,9% respecto al 2023 y un 3% más que en\\nfebrero de 2024.**\\n\\nEuropa se mantuvo como el principal destino, recibiendo el 59,5% del total\\nexportado. Sin embargo, **el crecimiento más notable se observó en Asia, donde\\nlas exportaciones aumentaron un 109% respecto a marzo de 2023. América Latina\\ny el Caribe también vieron un incremento del 21% en comparación con el año\\nanterior,** aunque hubo una ligera disminución del 5% respecto a febrero de\\n2024.\\n\\nEntre los principales destinos del GNL estadounidense se destacaron **Francia\\ny Países Bajos, que juntos representaron más del 30% del total exportado.**\\nEsta diversificación de mercados subraya la creciente importancia del GNL como\\nrecurso energético global.\\n\\nLe siguen Japón (7,8%), España (5,9%) y Corea del Sur (5,7%). En conjunto,\\n**estos 5 países representaron el 51,2% de las exportaciones totales de GNL\\nestadounidense** registradas hasta marzo de 2024.\\n\\n**Las exportaciones a América Latina y el Caribe, aunque menores en volumen\\ncomparado con Europa y Asia, reflejan una creciente necesidad de\\ndiversificación energética en la región**. Con este contexto, es crucial\\nobservar cómo evolucionará el mercado de GNL en los próximos meses,\\nespecialmente con las tensiones geopolíticas y los cambios en la demanda\\nenergética global.\\n\\n> Bajo este panorama, **Estados Unidos se ha convertido, por primera vez, en\\n> el mayor exportador mundial de gas natural licuado** (GNL), superando a los\\n> gigantes Australia y Qatar en 2023.\\n\\nEl año pasado, **exportó 91,2 millones de toneladas métricas, gracias a que la\\ninstalación de Freeport LNG volvió a operar,** tras estar cerrada ocho meses\\npor un incendio en junio de 2022. Mientras tanto, **los países de la Unión\\nEuropea están buscando reducir su dependencia del gas ruso** , especialmente\\ndespués de los recortes en el suministro por gasoducto hacia Europa.\\n\\n_Lea también:De tener éxito los 11 contratos costa afuera de Ecopetrol, las\\nreservas de gas se podrían multiplicar por 20_\\n\\n### Copa América 2024\\n\\n### Te puede interesar\\n\\n¿Buscando trabajo?\\n\\nCrea y registra tu hoja de vida.\\n\\nINGRESA AQUÍ\\n\\nRegístrate a nuestro newsletter\\n\\nSiga las noticias de EL COLOMBIANO desde Google News\\n\\nÚnete a nuestro canal de Whatsapp\\n\\n### Las más leídas\\n\\n### El Darién chocoano fue declarado como reserva de biosfera por la Unesco\\njunto a otras regiones de 11 países, ¿qué implica?\\n\\nhace 15 minutos\\n\\nbookmark Guardar\\n\\nshare Compartir\\n\\nMessenger\\n\\nWhatsapp\\n\\nTwitter\\n\\nFacebook\\n\\nLinkedin\\n\\n### Las embarcaciones desde Necoclí hacia Chocó están suspendidas por fuertes\\nvientos en el Urabá\\n\\nhace 1 hora\\n\\nbookmark Guardar\\n\\nshare Compartir\\n\\nMessenger\\n\\nWhatsapp\\n\\nTwitter\\n\\nFacebook\\n\\nLinkedin\\n\\n### **Así calman el hambre en Antioquia** : 986.000 hogares sufren por la\\ninseguridad alimentaria\\n\\nhace 10 horas\\n\\nbookmark Guardar\\n\\nshare Compartir\\n\\nMessenger\\n\\nWhatsapp\\n\\nTwitter\\n\\nFacebook\\n\\nLinkedin\\n\\n### Colombia vuelve a tener 88 clasificados a Juegos Olímpicos: Mayra Gaviria\\nestará en París\\n\\nhace 41 minutos\\n\\nbookmark Guardar\\n\\nshare Compartir\\n\\nMessenger\\n\\nWhatsapp\\n\\nTwitter\\n\\nFacebook\\n\\nLinkedin\\n\\n### En fotos: Leicy Santos le pidió matrimonio a su bella novia: ¿quién es?\\n\\nhace 34 minutos\\n\\nbookmark Guardar\\n\\nshare Compartir\\n\\nMessenger\\n\\nWhatsapp\\n\\nTwitter\\n\\nFacebook\\n\\nLinkedin\\n\\n  * Más recientes\\n\\n## Te recomendamos\\n\\n### ¿Cuáles plásticos seguirán circulando en Colombia a partir del 7 de julio?\\n\\nhace 1 hora\\n\\nbookmark Guardar\\n\\nshare Compartir\\n\\nMessenger\\n\\nWhatsapp\\n\\nTwitter\\n\\nFacebook\\n\\nLinkedin\\n\\n### ¿Cuándo una urgencia médica es realmente una urgencia?\\n\\nhace 3 horas\\n\\nbookmark Guardar\\n\\nshare Compartir\\n\\nMessenger\\n\\nWhatsapp\\n\\nTwitter\\n\\nFacebook\\n\\nLinkedin\\n\\n### Carlos Salcedo es acusado por su madre del asesinato de su hermana Paola\\nSalcedo: “Quiere irse del país”\\n\\nhace 5 horas\\n\\nbookmark Guardar\\n\\nshare Compartir\\n\\nMessenger\\n\\nWhatsapp\\n\\nTwitter\\n\\nFacebook\\n\\nLinkedin\\n\\n### ¿Qué hacer este fin de semana en Medellín? Concierto de salsa, teatro,\\ncomedia y feria artesanal en la agenda\\n\\nbookmark Guardar\\n\\nshare Compartir\\n\\nMessenger\\n\\nWhatsapp\\n\\nTwitter\\n\\nFacebook\\n\\nLinkedin\\n\\n## Utilidad para la vida\\n\\n### ¿Por qué tener un gimnasio para gatos en casa?\\n\\nhace 1 hora\\n\\nbookmark Guardar\\n\\nshare Compartir\\n\\nMessenger\\n\\nWhatsapp\\n\\nTwitter\\n\\nFacebook\\n\\nLinkedin\\n\\n### Pruebas Saber Pro: Recomendaciones para afrontarlas con éxito\\n\\nhace 2 horas\\n\\nbookmark Guardar\\n\\nshare Compartir\\n\\nMessenger\\n\\nWhatsapp\\n\\nTwitter\\n\\nFacebook\\n\\nLinkedin\\n\\n### Cinco alimentos prohibidos para perros\\n\\nhace 2 horas\\n\\nbookmark Guardar\\n\\nshare Compartir\\n\\nMessenger\\n\\nWhatsapp\\n\\nTwitter\\n\\nFacebook\\n\\nLinkedin\\n\\n### Falleció Evelio, una de las mascotas de Pirry\\n\\nhace 5 horas\\n\\nbookmark Guardar\\n\\nshare Compartir\\n\\nMessenger\\n\\nWhatsapp\\n\\nTwitter\\n\\nFacebook\\n\\nLinkedin\\n\\n#### Para seguir leyendo\\n\\nVideos\\n\\n0\\n\\n¿Quién es la mujer con la que Petro andaba de la mano en Panamá?\\n\\n###  ¿Quién es la mujer con la que Petro andaba de la mano en Panamá?\\n\\nEn esta emisión de #MesaCentralEC analizamos las noticias que marcaron la\\nagenda de la semana. ¿Quién es la mujer con la que Petro andaba de la mano en\\nPanamá?; Nuevos ministros en la casa de Nariño, por una constituyente; y La\\nguerra de trincheras en la mina de oro más grande de Colombia.\\n\\nhace 5 minutos\\n\\nbookmark Guardar\\n\\nshare Compartir\\n\\nMessenger\\n\\nWhatsapp\\n\\nTwitter\\n\\nFacebook\\n\\nLinkedin\\n\\nMedio Ambiente\\n\\n0\\n\\nEl Darién chocoano fue declarado como reserva de biosfera por la Unesco junto\\na otras regiones de 11 países, ¿qué implica?\\n\\n###  El Darién chocoano fue declarado como reserva de biosfera por la Unesco\\njunto a otras regiones de 11 países, ¿qué implica?\\n\\nDe acuerdo con la Unesco, la reserva cubre un vasto territorio de 3016 km²,\\ndel cual casi el 40 % está constituido por zonas marinas.\\n\\nhace 15 minutos\\n\\nbookmark Guardar\\n\\nshare Compartir\\n\\nMessenger\\n\\nWhatsapp\\n\\nTwitter\\n\\nFacebook\\n\\nLinkedin\\n\\nColombia\\n\\n0\\n\\nLas embarcaciones desde Necoclí hacia Chocó están suspendidas por fuertes\\nvientos en el Urabá\\n\\n###  Las embarcaciones desde Necoclí hacia Chocó están suspendidas por fuertes\\nvientos en el Urabá\\n\\nLos vientos intensos en el territorio afectaron las playas de Necoclí.\\nExpertos señalan que podría estar relacionado con “coletazos” del huracán\\nBeryl.\\n\\nhace 1 hora\\n\\nbookmark Guardar\\n\\nshare Compartir\\n\\nMessenger\\n\\nWhatsapp\\n\\nTwitter\\n\\nFacebook\\n\\nLinkedin\\n\\nDeportes\\n\\n0\\n\\nColombia vuelve a tener 88 clasificados a Juegos Olímpicos: Mayra Gaviria\\nestará en París\\n\\n###  Colombia vuelve a tener 88 clasificados a Juegos Olímpicos: Mayra Gaviria\\nestará en París\\n\\nLa deportista estará en el lanzamiento de martillo, gracias a una\\nrelocalización en el ranquin mundial de atletismo.\\n\\nhace 41 minutos\\n\\nbookmark Guardar\\n\\nshare Compartir\\n\\nMessenger\\n\\nWhatsapp\\n\\nTwitter\\n\\nFacebook\\n\\nLinkedin\\n\\nDeportes\\n\\n0\\n\\nEsta fue la millonaria suma que ganó la Selección Colombia por clasificar a\\ncuartos de final\\n\\n###  Esta fue la millonaria suma que ganó la Selección Colombia por clasificar\\na cuartos de final\\n\\nhace 29 minutos\\n\\nbookmark Guardar\\n\\nshare Compartir\\n\\nMessenger\\n\\nWhatsapp\\n\\nTwitter\\n\\nFacebook\\n\\nLinkedin\\n\\nEl empleo que busca está a un clic\\n\\nVer ofertas\\n\\nRegístrate a nuestro newsletter\\n\\nÚnete a nuestro canal de Whatsapp\\n\\nEl empleo que busca está a un clic\\n\\nVer ofertas\\n\\nRegístrate a nuestro newsletter\\n\\nÚnete a nuestro canal de Whatsapp\\n\\nEl empleo que busca está a un clic\\n\\nVer ofertas\\n\\nRegístrate a nuestro newsletter\\n\\nÚnete a nuestro canal de Whatsapp\\n\\nEl empleo que busca está a un clic\\n\\nVer ofertas\\n\\nRegístrate a nuestro newsletter\\n\\nÚnete a nuestro canal de Whatsapp\\n\\nEl empleo que busca está a un clic\\n\\nVer ofertas\\n\\nRegístrate a nuestro newsletter\\n\\nÚnete a nuestro canal de Whatsapp\\n\\n## **Regístrate** al newsletter\\n\\nAcepto  términos y condiciones productos y servicios Grupo EL COLOMBIANO*\\n\\nAcepto el tratamiento y uso del dato Personal por parte del Grupo EL\\nCOLOMBIANO*\\n\\nAcepto que Grupo EL COLOMBIANO comparta mis datos personales con terceros\\naliados comerciales conforme su Política de Tratamiento del Datos Personal.\\n\\nPROCESANDO TU SOLICITUD\\n\\n',\n",
       " 'title': '¡Las paradojas de la vida! Ecopetrol importaría gas de fracking de Estados Unidos, pero acá el Gobierno frenó los pilotos',\n",
       " 'metadata': {'source': 'https://www.elcolombiano.com/negocios/fracking-estados-unidos-ecopetrol-negocia-gas-natural-con-estados-unidos-BG24887475',\n",
       "  'title': '¡Las paradojas de la vida! Ecopetrol importaría gas de fracking de Estados Unidos, pero acá el Gobierno frenó los pilotos',\n",
       "  'description': 'Ecopetrol está en conversaciones para adquirir gas natural licuado (GNL) en un esfuerzo por mitigar el riesgo de escasez de gas ante la disminución de...',\n",
       "  'language': 'es-ES'},\n",
       " 'clean_content': 'x * bookmarkGuardados * graphic_eqPódcast * play_arrowVideos *\\nphoto_cameraReportajes gráficos * account_circleSuscríbete pico y placa Pico y\\nPlaca Medellín #### Pico y Placa Medellín ## viernes 7 y 9 7 y 9 pico y placa\\nPico y Placa Medellín #### Pico y Placa Medellín ## jueves 3 y 6 3 y 6 pico y\\nplaca Pico y Placa Medellín #### Pico y Placa Medellín ## miercoles 2 y 0 2 y\\n0 pico y placa Pico y Placa Medellín #### Pico y Placa Medellín ## martes 1 y\\n4 1 y 4 pico y placa Pico y Placa Medellín #### Pico y Placa Medellín ##\\ndomingo no no pico y placa Pico y Placa Medellín #### Pico y Placa Medellín ##\\nsabado no no pico y placa Pico y Placa Medellín #### Pico y Placa Medellín ##\\nlunes 5 y 8 5 y 8 * search * account_circleMi Cuenta * bookmarkGuardados *\\ndescriptionPeriódico impreso * graphic_eqPódcast * play_arrowVideos *\\nphoto_cameraReportajes gráficos language COL arrow_drop_down * España *\\nsettings Preferencias * search cancel menu close diamond SUSCRÍBETE person\\nINICIO DE SESIÓN EDICIÓN language COL arrow_drop_down * España ## Secciones *\\nMedellín * Antioquia * Colombia * Mundo * Economía * Deportes * Opinión *\\nCultura * Tendencias * Tecnología * Entretenimiento ### Explorar * Especiales\\n* Crucigrama * Horoscopo * Videos * Reportajes gráficos * Blogs * Podcast *\\nClasificados * Generación * Periódico Impreso * Parchetek * Marcas aliadas\\nRegístrate a nuestro newsletter #### Nuestro Grupo * Qhubo * Propiedades *\\nGente * Club intelecto * * * * callContacto live_helpPQR Suscríbete ####\\nEconomía Economía Ecopetrol Hidrocarburos Gas natural Fracking Reservas de gas\\nGas Colombia Venezuela Estados Unidos Ricardo Roa # ¡Las paradojas de la vida!\\nEcopetrol importaría gas de fracking de Estados Unidos, pero acá el Gobierno\\nfrenó los pilotos ## Exministra María Fernanda Suárez criticó la intención de\\nColombia de importar gas de fracking desde EE. UU., calificándola como “la\\nmayor estupidez”. * Vanti alertó esta semana sobre la posible escasez temporal\\nde gas natural por unos años desde 2025 si no se modifica la regulación\\nvigente. FOTO: Colprensa. 2024-06-30 15:40:10 ###### Miguel Orlando Alguero 30\\nde junio de 2024 bookmark Guardar Haz clic aquí para escuchar la noticia.\\nEcopetrol está en conversaciones para adquirir gas natural licuado (GNL) en un\\nesfuerzo por**mitigar el riesgo de escasez de gas ante la disminución de la\\nproducción nacional** , hecho que ya advirtieron expertos y gremios del\\nsector. Por ejemplo, Vanti alertó esta semana sobre **la posible escasez\\ntemporal de gas natural por unos años desde 2025** si no se modifica la\\nregulación vigente. > El presidente del Grupo Vanti, Rodolfo Anaya, agregó que\\n**ya es un hecho > que Colombia tendrá un déficit temporal que no se sabe cómo\\nse cubrirá** , y > **la necesidad de importar gas natural cuyos costos son más\\naltos no es > clara aún cómo y quién los va a asumir** , lo que va a tener\\nconsecuencias > en los usuarios de gas natural en el país. Por ahora, **la\\npetrolera estatal se enfoca en proveedores estadounidenses** , mientras\\nconsidera la construcción de una nueva terminal de importación. Un informe de\\nBloomberg, citando a fuentes cercanas a las negociaciones, detalló que\\n**Ecopetrol está explorando opciones en el mercado estadounidense de gas\\nnatural licuado** , en un momento crítico para el suministro energético del\\npaís. “La reducción de la producción de gas en Colombia ha llevado a la\\nempresa a buscar alternativas para **garantizar el abastecimiento interno en\\nlos próximos años** ”. En medio de estos nuevos detalles sobre las movidas de\\nEcopetrol, hay que recordar que la semana pasada, la compañía anunció su plan\\nde abastecimiento de gas natural para solventar ese faltante del energético.\\nComunicó que **parte del déficit se cubrirá con la importación de gas de\\nVenezuela, una opción que a la hora de la verdad causa malestar en el sector\\nprivado** , además de ser una alternativa que está en el aire ante la ausencia\\nde una licencia especial que ni siquiera depende de entidades colombianas. Sin\\nembargo, Bloomberg aseveró que **la petrolera tiene su interés en el gas\\nnatural licuado de Estados Unidos, que surge debido a su disponibilidad y\\ncapacidad de exportación** , lo que podría ofrecer a Colombia una solución\\nrápida y eficiente frente a la inminente escasez proyectada. Además, la\\n**posible construcción de una segunda terminal de importación en el país\\nsubraya la intención de Ecopetrol de fortalecer su infraestructura** para\\nasegurar un suministro energético estable y sostenible. Ante esto, la\\nexministra de Minas y Energía, María Fernanda Suárez, expresó su preocupación\\nporque **Colombia cometerá “la mayor estupidez”** , ella se refiera a que e**l\\npaís dejó de hacer los pilotos de fracking, pero ahora busca gas de Estados\\nUnidos que se extrae por esta técnica.** “Negligencia de no terminar los\\npilotos de fracking, porque la ideología y la pasión la anteponen a la\\nciencia... **Vamos a importar gas de Estados Unidos producido con técnica de\\nfracturación hidráulica (fracking)** ”, detalló Suárez. **Lea también:Así va\\nla búsqueda de Colombia por sus minerales para la transición energética** Por\\nlo que vaticinó que el resultado será: **sin seguridad energética y mayor\\npobreza** asegurada para los colombianos y más emisiones de carbono porque hay\\nque transportar el gas natural licuado. Datos de**la Asociación Colombiana de\\nPetróleo y Gas (ACP) indican que el fracking le representaría una oportunidad\\nen generar ingresos fiscales por $1,5 billones anuales (solo en regalías\\nUS$2.500 millones)** y un efecto multiplicador en impuestos locales asociados\\na la cadena de bienes y servicios. Por el momento, los pilotos de Yacimientos\\nNo Convencionales (fracking) para explorar y explotar hidrocarburos en la zona\\ndel Magdalena Medio están parados. **Ecopetrol lidera dos proyectos piloto:\\nKalé y Platero, con inversiones de 76 millones y 56 millones de dólares,\\nrespectivamente.** Aunque algunos ven el fracking como una respuesta a la\\ndemanda de energía, otros lo consideran riesgoso para la salud y el\\nmedioambiente. **El proceso implica fracturar rocas profundas para liberar gas\\nmetano.** **Lo que se sabe hasta ahora** Según lo dicho por **el presidente de\\nEcopetrol, Ricardo Roa, es que el déficit es de alrededor de 83 pies cúbicos\\ndías en 2025.** Eso quiere decir que el faltante equivale al 8% de la demanda\\nnacional. Las cuentas de Gobierno para cubrir ese faltante son las\\nsiguientes:**se espera que 61 pies cúbicos días sean cubiertos con opciones\\nprovenientes de gas nacional.** Contrario a lo revelado por Bloomberg, **el\\nGobierno insiste y está empecinado en la opción de importar gas de Venezuela,\\na través del gasoducto Antonio Ricaurte.** De hecho, las cuentas de Ecopetrol\\nproyectan un total de 100 Gbtud solo de gas importado que llegarían del vecino\\npaís y a través de sistemas de regasificación y del gasoducto de la vecina\\nnación. > “Hemos venido avanzando con Pdvsa Gas, Cenit, nuestra filial, en\\nhacer un > recorrido físico por toda la instalación en el tramo de Colombia,\\nque **son > cerca de 98 kilómetros, y se identificó que en una ventana de\\ntiempo entre > 10 y 14 meses podría estar el gasoducto en disposición física**\\n”, sostuvo > Roa. Según sus cuentas, **por ese gasoducto caben casi 300\\nmillones de pies cúbicos día, pero la realidad es que se comenzaría con entre\\n30 y 50 millones de pies cúbicos día.** No obstante, hay que tener en cuenta\\nque el propio presidente de Ecopetrol reconoció que no se tratan de cuentas\\noficiales, sino de conversaciones informales que se han adelantado entre el\\nGobierno de Venezuela y Colombia. **¿Por qué se importa gas?** Tres expertos\\nconsultados por este medio explicaron que la importación de gas desde\\nVenezuela o cualquier otro país, como el que se trae desde Trinidad y\\nTobago,**es necesario para las termoeléctricas de la Costa Caribe.** El precio\\nde esa importación del vecino país no es claro, este es elemento de decisión.\\nA su vez, **la producción actual de Chuchupa y los campos de gas de Sucre y\\nCórdoba no alcanza para suplir la demanda en Colombia.** Aunque hay gas\\nnatural sobrante en los campos del Piedemonte Llanero, como Cusiana y\\nCupiagua. Este no está disponible por varias razones: no existe capacidad de\\ntratamiento para extraerle el CO2, se necesita reinyectarlo para mantener la\\npresión de los yacimientos, y tendría que voltearse el flujo (compresores),\\ndel gasoducto Ballenas - Barrancabermeja. Además, **este gas no está regulado,\\ny ante una subasta, por la escasez, su precio sería superior al importado.**\\nTambién habría que sumarle el costo de transporte. Sobre lo anterior, el\\ningeniero de Petróleos Óscar Vanegas, consideró que tanto Ecopetrol como el\\nGobierno Nacional creen que la Oficina de Control de Activos (Ofac), del\\nDepartamento del Tesoro de Estados Unidos, permitirá,**en la próxima licencia\\nque emita (en reemplazo de la Licencia General 8M que vence el próximo 16 de\\nmayo), transacciones entre Pdvsa y la petrolera colombiana.** “Creo que ese\\npermiso no se dará, ya que **la Ofac solo aprobará las transacciones\\nesenciales que involucren a Pdvsa con ciertas entidades y subsidiarias\\npetroleras estadounidenses** que operan en Venezuela”, estimó el académico. A\\nrenglón seguido, Julio César Vera, presidente de la fundación Xua Energy,\\nreiteró que **dicha importación está supeditada a que Estados Unidos le\\notorgue un** _**waiver**_**(exención) a Ecopetrol,** que por ahora se sabe que\\nse solicitó, pero aún no se ha autorizado, para avanzar al respecto, de lo\\ncontrario no será viable. “**Lo deseable es que el país siga priorizando las\\nfuentes locales de abastecimiento** , evalúe y desarrolle a fondo el potencial\\nque Colombia tiene en cuencas como el Valle inferior del Magdalena, en Sinú -\\nSan Jacinto, en César - Ranchería, el Piedemonte Llanero y por supuesto el\\n_off shore_ caribe (costa afuera), **de tal forma que nuestra seguridad\\nenergética no depende del abastecimiento con producto importado** ”, advirtió\\nel analista. **Lea también:Transición energética “a la colombiana”, la ACP\\nrevela detalles de cómo el petróleo no es un obstáculo** **Cuáles son las\\nmedidas para mitigar la escasez** En ese sentido, como lo detalló Bloomberg,\\nColombia está tomando medidas para mitigar una posible escasez de gas en los\\npróximos dos años, explorando la construcción de una segunda terminal de\\nimportación de Gas Natural Licuado (GNL). Además, se acentúa el interés\\nparticular en el GNL proveniente de Estados Unidos, el mayor exportador\\nmundial.**La cercanía geográfica entre ambos países representa una ventaja\\nestratégica para Colombia** , que busca asegurar un suministro estable\\nmientras ofrece a los comerciantes estadounidenses un nuevo mercado para su\\nexceso de carga. > “**Ecopetrol está evaluando propuestas de al menos diez\\nempresas para > desarrollar esta terminal independiente, con una fecha límite\\npara la > recepción de ofertas a principios de julio**. Se están considerando\\n> **volúmenes de hasta 0,6 millones de toneladas métricas al año** , lo que >\\nequivale a alrededor de ocho cargamentos de GNL, en un periodo que podría >\\nvariar entre tres y siete años”, se lee en el informe de Bloomberg. Sin\\nembargo, **el principal desafío radica en encontrar un buque flotante adecuado\\npara el GNL, ya que la demanda de estos buques ha aumentado considerablemente\\nen Europa** desde la invasión de Ucrania en 2022. Este factor ha complicado el\\nmercado de transporte de GNL, ya que los países europeos buscan reemplazar el\\ngas ruso. Según este medio especializado, los posibles sitios para la nueva\\nterminal están siendo evaluados **tanto en la costa caribeña como en el lado\\npacífico de Colombia.** Aunque el desarrollo de **una terminal en la costa\\npacífica ha sido considerado anteriormente, la falta de interés comercial ha\\nfrenado su avance.** La ubicación final y el cronograma de entrega dependerán\\nde las decisiones iniciales sobre la infraestructura. Ante este panorama, el\\npresidente del Grupo Vanti presentó una propuesta regulatoria que puede\\nservir, la cual se espera sea tenida en cuenta y **se aplique para cubrir los\\ndesafíos ante la inminente escasez de gas natural a partir de 2025,** que\\ncontempla las siguientes acciones: La primera se refiere a que **el productor\\nde gas natural pueda, de forma temporal, ofrecer directamente el producto por\\nun año, cubriendo obligatoriamente los contratos** al 30 de noviembre próximo.\\nEn segundo lugar, habilitar a los productores una alternativa opcional para\\nque diseñen productos conformados por una mezcla de fuentes de suministro.\\nLuego,**crear una estructura de precios que permita mantener y desarrollar\\ntodos los segmentos del mercado.** **Lea también:Upme va por el tercer intento\\npara construir la planta de regasificación del Pacífico, ¿será el\\ndefinitivo?** También destacó**la aplicación de flexibilidad para los\\nproductores, incluyendo la posibilidad de diferenciar precios por tipos de\\nmercado.** En quinto lugar, que los tenedores de contratos con vencimiento\\npuedan aceptar total o parcialmente esa oferta. Las partes definirán los\\npuntos de entrega y en caso de que queden cantidades excedentarias, el\\nproductor los ofrecerá libremente a nuevos solicitantes. Por último, para **la\\ncomercialización del 2025, el productor podrá lanzar ofertas a largo plazo.**\\nHay que tener en cuenta que, de acuerdo con los análisis que ha desarrollado\\nEcopetrol,**se tendría un déficit entre 70 y 100 millones de pies cúbicos por\\ndía para el 2025** , que implica utilizar, basado en una evaluación de costo-\\ntiempo-beneficio, todas las opciones posibles para cubrir dicho diferencial y\\n**claramente la importación de Venezuela es una de las alternativas, además de\\naumentar las importaciones a través de la planta de regasificación de\\nCartagena.** **Aumento en exportaciones de GNL** Luego de esta panorama, es\\nnecesario ponerle la lupa a este energético que sale de Estados Unidos. Por\\nejemplo, el reciente informe del Departamento de Energía de Estados Unidos,\\ncon corte a marzo de 2024, **reportó que las exportaciones de gas natural\\nlicuado (GNL) alcanzaron los 369,9 mil millones de pies cúbicos, un aumento\\ndel 0,9% respecto al 2023 y un 3% más que en febrero de 2024.** Europa se\\nmantuvo como el principal destino, recibiendo el 59,5% del total exportado.\\nSin embargo, **el crecimiento más notable se observó en Asia, donde las\\nexportaciones aumentaron un 109% respecto a marzo de 2023. América Latina y el\\nCaribe también vieron un incremento del 21% en comparación con el año\\nanterior,** aunque hubo una ligera disminución del 5% respecto a febrero de\\n2024\\\\. Entre los principales destinos del GNL estadounidense se destacaron\\n**Francia y Países Bajos, que juntos representaron más del 30% del total\\nexportado.** Esta diversificación de mercados subraya la creciente importancia\\ndel GNL como recurso energético global. Le siguen Japón (7,8%), España (5,9%)\\ny Corea del Sur (5,7%). En conjunto, **estos 5 países representaron el 51,2%\\nde las exportaciones totales de GNL estadounidense** registradas hasta marzo\\nde 2024. **Las exportaciones a América Latina y el Caribe, aunque menores en\\nvolumen comparado con Europa y Asia, reflejan una creciente necesidad de\\ndiversificación energética en la región**. Con este contexto, es crucial\\nobservar cómo evolucionará el mercado de GNL en los próximos meses,\\nespecialmente con las tensiones geopolíticas y los cambios en la demanda\\nenergética global. > Bajo este panorama, **Estados Unidos se ha convertido,\\npor primera vez, en > el mayor exportador mundial de gas natural licuado**\\n(GNL), superando a los > gigantes Australia y Qatar en 2023. El año pasado,\\n**exportó 91,2 millones de toneladas métricas, gracias a que la instalación de\\nFreeport LNG volvió a operar,** tras estar cerrada ocho meses por un incendio\\nen junio de 2022. Mientras tanto, **los países de la Unión Europea están\\nbuscando reducir su dependencia del gas ruso** , especialmente después de los\\nrecortes en el suministro por gasoducto hacia Europa. _Lea también:De tener\\néxito los 11 contratos costa afuera de Ecopetrol, las reservas de gas se\\npodrían multiplicar por 20_ ### Copa América 2024 ### Te puede interesar\\n¿Buscando trabajo? Crea y registra tu hoja de vida. INGRESA AQUÍ Regístrate a\\nnuestro newsletter Siga las noticias de EL COLOMBIANO desde Google News Únete\\na nuestro canal de Whatsapp ### Las más leídas ### El Darién chocoano fue\\ndeclarado como reserva de biosfera por la Unesco junto a otras regiones de 11\\npaíses, ¿qué implica? hace 15 minutos bookmark Guardar share Compartir\\nMessenger Whatsapp Twitter Facebook Linkedin ### Las embarcaciones desde\\nNecoclí hacia Chocó están suspendidas por fuertes vientos en el Urabá hace 1\\nhora bookmark Guardar share Compartir Messenger Whatsapp Twitter Facebook\\nLinkedin ### **Así calman el hambre en Antioquia** : 986.000 hogares sufren\\npor la inseguridad alimentaria hace 10 horas bookmark Guardar share Compartir\\nMessenger Whatsapp Twitter Facebook Linkedin ### Colombia vuelve a tener 88\\nclasificados a Juegos Olímpicos: Mayra Gaviria estará en París hace 41 minutos\\nbookmark Guardar share Compartir Messenger Whatsapp Twitter Facebook Linkedin\\n### En fotos: Leicy Santos le pidió matrimonio a su bella novia: ¿quién es?\\nhace 34 minutos bookmark Guardar share Compartir Messenger Whatsapp Twitter\\nFacebook Linkedin * Más recientes ## Te recomendamos ### ¿Cuáles plásticos\\nseguirán circulando en Colombia a partir del 7 de julio? hace 1 hora bookmark\\nGuardar share Compartir Messenger Whatsapp Twitter Facebook Linkedin ###\\n¿Cuándo una urgencia médica es realmente una urgencia? hace 3 horas bookmark\\nGuardar share Compartir Messenger Whatsapp Twitter Facebook Linkedin ###\\nCarlos Salcedo es acusado por su madre del asesinato de su hermana Paola\\nSalcedo: “Quiere irse del país” hace 5 horas bookmark Guardar share Compartir\\nMessenger Whatsapp Twitter Facebook Linkedin ### ¿Qué hacer este fin de semana\\nen Medellín? Concierto de salsa, teatro, comedia y feria artesanal en la\\nagenda bookmark Guardar share Compartir Messenger Whatsapp Twitter Facebook\\nLinkedin ## Utilidad para la vida ### ¿Por qué tener un gimnasio para gatos en\\ncasa? hace 1 hora bookmark Guardar share Compartir Messenger Whatsapp Twitter\\nFacebook Linkedin ### Pruebas Saber Pro: Recomendaciones para afrontarlas con\\néxito hace 2 horas bookmark Guardar share Compartir Messenger Whatsapp Twitter\\nFacebook Linkedin ### Cinco alimentos prohibidos para perros hace 2 horas\\nbookmark Guardar share Compartir Messenger Whatsapp Twitter Facebook Linkedin\\n### Falleció Evelio, una de las mascotas de Pirry hace 5 horas bookmark\\nGuardar share Compartir Messenger Whatsapp Twitter Facebook Linkedin #### Para\\nseguir leyendo Videos 0 ¿Quién es la mujer con la que Petro andaba de la mano\\nen Panamá? ### ¿Quién es la mujer con la que Petro andaba de la mano en\\nPanamá? En esta emisión de #MesaCentralEC analizamos las noticias que marcaron\\nla agenda de la semana. ¿Quién es la mujer con la que Petro andaba de la mano\\nen Panamá?; Nuevos ministros en la casa de Nariño, por una constituyente; y La\\nguerra de trincheras en la mina de oro más grande de Colombia. hace 5 minutos\\nbookmark Guardar share Compartir Messenger Whatsapp Twitter Facebook Linkedin\\nMedio Ambiente 0 El Darién chocoano fue declarado como reserva de biosfera por\\nla Unesco junto a otras regiones de 11 países, ¿qué implica? ### El Darién\\nchocoano fue declarado como reserva de biosfera por la Unesco junto a otras\\nregiones de 11 países, ¿qué implica? De acuerdo con la Unesco, la reserva\\ncubre un vasto territorio de 3016 km², del cual casi el 40 % está constituido\\npor zonas marinas. hace 15 minutos bookmark Guardar share Compartir Messenger\\nWhatsapp Twitter Facebook Linkedin Colombia 0 Las embarcaciones desde Necoclí\\nhacia Chocó están suspendidas por fuertes vientos en el Urabá ### Las\\nembarcaciones desde Necoclí hacia Chocó están suspendidas por fuertes vientos\\nen el Urabá Los vientos intensos en el territorio afectaron las playas de\\nNecoclí. Expertos señalan que podría estar relacionado con “coletazos” del\\nhuracán Beryl. hace 1 hora bookmark Guardar share Compartir Messenger Whatsapp\\nTwitter Facebook Linkedin Deportes 0 Colombia vuelve a tener 88 clasificados a\\nJuegos Olímpicos: Mayra Gaviria estará en París ### Colombia vuelve a tener 88\\nclasificados a Juegos Olímpicos: Mayra Gaviria estará en París La deportista\\nestará en el lanzamiento de martillo, gracias a una relocalización en el\\nranquin mundial de atletismo. hace 41 minutos bookmark Guardar share Compartir\\nMessenger Whatsapp Twitter Facebook Linkedin Deportes 0 Esta fue la millonaria\\nsuma que ganó la Selección Colombia por clasificar a cuartos de final ### Esta\\nfue la millonaria suma que ganó la Selección Colombia por clasificar a cuartos\\nde final hace 29 minutos bookmark Guardar share Compartir Messenger Whatsapp\\nTwitter Facebook Linkedin El empleo que busca está a un clic Ver ofertas\\nRegístrate a nuestro newsletter Únete a nuestro canal de Whatsapp El empleo\\nque busca está a un clic Ver ofertas Regístrate a nuestro newsletter Únete a\\nnuestro canal de Whatsapp El empleo que busca está a un clic Ver ofertas\\nRegístrate a nuestro newsletter Únete a nuestro canal de Whatsapp El empleo\\nque busca está a un clic Ver ofertas Regístrate a nuestro newsletter Únete a\\nnuestro canal de Whatsapp El empleo que busca está a un clic Ver ofertas\\nRegístrate a nuestro newsletter Únete a nuestro canal de Whatsapp ##\\n**Regístrate** al newsletter Acepto términos y condiciones productos y\\nservicios Grupo EL COLOMBIANO* Acepto el tratamiento y uso del dato Personal\\npor parte del Grupo EL COLOMBIANO* Acepto que Grupo EL COLOMBIANO comparta mis\\ndatos personales con terceros aliados comerciales conforme su Política de\\nTratamiento del Datos Personal. PROCESANDO TU SOLICITUD\\n\\n'}"
      ]
     },
     "execution_count": 6,
     "metadata": {},
     "output_type": "execute_result"
    }
   ],
   "source": [
    "structured_response[1]"
   ]
  },
  {
   "cell_type": "code",
   "execution_count": 27,
   "metadata": {},
   "outputs": [],
   "source": [
    "news = {}\n",
    "for i, doc in enumerate(structured_response):\n",
    "    doc = doc['clean_content'].replace(doc['title'], '')\n",
    "    texts = pd.Series(re.split('#', doc)).str.strip()\n",
    "    texts = texts[texts.str.len()>100].reset_index(drop=True)\n",
    "    lens = texts.apply(lambda text: pd.Series(text.split('\\n')).str.strip().str.len().mean())\n",
    "    texts = texts[lens>20]\n",
    "    news[structured_response[i]['title'].strip()] = texts"
   ]
  },
  {
   "cell_type": "code",
   "execution_count": 184,
   "metadata": {},
   "outputs": [],
   "source": [
    "def get_dates(news):\n",
    "    dates = []\n",
    "    for value in news.values():\n",
    "        date = value[value.str.contains('[0-9]{1,4}\\W[0-9]{1,2}\\W[0-9]{1,4}', regex=True)]\n",
    "        date = date.str.extract('([0-9]{1,4}\\W[0-9]{1,2}\\W[0-9]{1,4})')\n",
    "        date = date[0].str.split('\\W', regex=True, expand=True)\n",
    "        if len(date):\n",
    "            lens = date.iloc[0].str.len()\n",
    "            if lens.tolist()==lens.sort_values(ascending=False).tolist():\n",
    "                date_ = '-'.join(date.iloc[0].tolist())\n",
    "            else:\n",
    "                date_ = '-'.join(date.iloc[0][::-1].tolist())\n",
    "        else:\n",
    "            now = datetime.now()\n",
    "            date_ = f'{now.year}-{0 if now.month<10 else \"\"}{now.month}-{0 if now.day<10 else \"\"}{now.day}'\n",
    "        dates.append(date_)\n",
    "    return dates\n",
    "\n",
    "class scrap_news:\n",
    "    model = AutoModel.from_pretrained('jinaai/jina-embeddings-v2-base-es', trust_remote_code=True) # trust_remote_code is needed to use the encode method\n",
    "\n",
    "    def cos_sim(self, a, b):\n",
    "        return (a @ b.T) / (norm(a)*norm(b))\n",
    "\n",
    "    def get_similarity(self, df, title, cutoff=0.4):\n",
    "        texts = self.model.encode(df.tolist())\n",
    "        title = self.model.encode(title)\n",
    "        embedds = []\n",
    "        for text in texts:\n",
    "            embedds.append(self.cos_sim(text, title))\n",
    "        df = df.to_frame().assign(SIMILARITY=embedds)\n",
    "        df = df[df.SIMILARITY>cutoff]\n",
    "        return df\n",
    "\n",
    "    def scrap(self, news):\n",
    "        self.similarity, self.content = {}, []\n",
    "        for key, value in tqdm.tqdm(news.items()):\n",
    "            self.similarity[key] = self.get_similarity(value, key)\n",
    "            value = self.similarity[key][0]\n",
    "            value = value.str.replace('(\\n)|(\\*)', ' ', regex=True).str.replace(' +', ' ', regex=True).str.strip()\n",
    "            self.content.append('\\n\\n\\n\\n'.join(value.tolist()))"
   ]
  },
  {
   "cell_type": "code",
   "execution_count": 185,
   "metadata": {},
   "outputs": [
    {
     "name": "stderr",
     "output_type": "stream",
     "text": [
      "  0%|          | 0/8 [00:00<?, ?it/s]"
     ]
    },
    {
     "name": "stderr",
     "output_type": "stream",
     "text": [
      " 12%|█▎        | 1/8 [01:29<10:26, 89.48s/it]\n"
     ]
    },
    {
     "ename": "RuntimeError",
     "evalue": "[enforce fail at alloc_cpu.cpp:114] data. DefaultCPUAllocator: not enough memory: you tried to allocate 14828660640 bytes.",
     "output_type": "error",
     "traceback": [
      "\u001b[1;31m---------------------------------------------------------------------------\u001b[0m",
      "\u001b[1;31mRuntimeError\u001b[0m                              Traceback (most recent call last)",
      "Cell \u001b[1;32mIn[185], line 2\u001b[0m\n\u001b[0;32m      1\u001b[0m scraper \u001b[38;5;241m=\u001b[39m scrap_news()\n\u001b[1;32m----> 2\u001b[0m \u001b[43mscraper\u001b[49m\u001b[38;5;241;43m.\u001b[39;49m\u001b[43mscrap\u001b[49m\u001b[43m(\u001b[49m\u001b[43mnews\u001b[49m\u001b[43m)\u001b[49m\n\u001b[0;32m      3\u001b[0m dates \u001b[38;5;241m=\u001b[39m get_dates(news)\n",
      "Cell \u001b[1;32mIn[184], line 38\u001b[0m, in \u001b[0;36mscrap_news.scrap\u001b[1;34m(self, news)\u001b[0m\n\u001b[0;32m     36\u001b[0m \u001b[38;5;28mself\u001b[39m\u001b[38;5;241m.\u001b[39msimilarity, \u001b[38;5;28mself\u001b[39m\u001b[38;5;241m.\u001b[39mcontent \u001b[38;5;241m=\u001b[39m {}, []\n\u001b[0;32m     37\u001b[0m \u001b[38;5;28;01mfor\u001b[39;00m key, value \u001b[38;5;129;01min\u001b[39;00m tqdm(news\u001b[38;5;241m.\u001b[39mitems()):\n\u001b[1;32m---> 38\u001b[0m     \u001b[38;5;28mself\u001b[39m\u001b[38;5;241m.\u001b[39msimilarity[key] \u001b[38;5;241m=\u001b[39m \u001b[38;5;28;43mself\u001b[39;49m\u001b[38;5;241;43m.\u001b[39;49m\u001b[43mget_similarity\u001b[49m\u001b[43m(\u001b[49m\u001b[43mvalue\u001b[49m\u001b[43m,\u001b[49m\u001b[43m \u001b[49m\u001b[43mkey\u001b[49m\u001b[43m)\u001b[49m\n\u001b[0;32m     39\u001b[0m     value \u001b[38;5;241m=\u001b[39m \u001b[38;5;28mself\u001b[39m\u001b[38;5;241m.\u001b[39msimilarity[key][\u001b[38;5;241m0\u001b[39m]\n\u001b[0;32m     40\u001b[0m     value \u001b[38;5;241m=\u001b[39m value\u001b[38;5;241m.\u001b[39mstr\u001b[38;5;241m.\u001b[39mreplace(\u001b[38;5;124m'\u001b[39m\u001b[38;5;124m(\u001b[39m\u001b[38;5;130;01m\\n\u001b[39;00m\u001b[38;5;124m)|(\u001b[39m\u001b[38;5;124m\\\u001b[39m\u001b[38;5;124m*)\u001b[39m\u001b[38;5;124m'\u001b[39m, \u001b[38;5;124m'\u001b[39m\u001b[38;5;124m \u001b[39m\u001b[38;5;124m'\u001b[39m, regex\u001b[38;5;241m=\u001b[39m\u001b[38;5;28;01mTrue\u001b[39;00m)\u001b[38;5;241m.\u001b[39mstr\u001b[38;5;241m.\u001b[39mreplace(\u001b[38;5;124m'\u001b[39m\u001b[38;5;124m +\u001b[39m\u001b[38;5;124m'\u001b[39m, \u001b[38;5;124m'\u001b[39m\u001b[38;5;124m \u001b[39m\u001b[38;5;124m'\u001b[39m, regex\u001b[38;5;241m=\u001b[39m\u001b[38;5;28;01mTrue\u001b[39;00m)\u001b[38;5;241m.\u001b[39mstr\u001b[38;5;241m.\u001b[39mstrip()\n",
      "Cell \u001b[1;32mIn[184], line 26\u001b[0m, in \u001b[0;36mscrap_news.get_similarity\u001b[1;34m(self, df, title, cutoff)\u001b[0m\n\u001b[0;32m     25\u001b[0m \u001b[38;5;28;01mdef\u001b[39;00m \u001b[38;5;21mget_similarity\u001b[39m(\u001b[38;5;28mself\u001b[39m, df, title, cutoff\u001b[38;5;241m=\u001b[39m\u001b[38;5;241m0.4\u001b[39m):\n\u001b[1;32m---> 26\u001b[0m     texts \u001b[38;5;241m=\u001b[39m \u001b[38;5;28;43mself\u001b[39;49m\u001b[38;5;241;43m.\u001b[39;49m\u001b[43mmodel\u001b[49m\u001b[38;5;241;43m.\u001b[39;49m\u001b[43mencode\u001b[49m\u001b[43m(\u001b[49m\u001b[43mdf\u001b[49m\u001b[38;5;241;43m.\u001b[39;49m\u001b[43mtolist\u001b[49m\u001b[43m(\u001b[49m\u001b[43m)\u001b[49m\u001b[43m)\u001b[49m\n\u001b[0;32m     27\u001b[0m     title \u001b[38;5;241m=\u001b[39m \u001b[38;5;28mself\u001b[39m\u001b[38;5;241m.\u001b[39mmodel\u001b[38;5;241m.\u001b[39mencode(title)\n\u001b[0;32m     28\u001b[0m     embedds \u001b[38;5;241m=\u001b[39m []\n",
      "File \u001b[1;32mc:\\Users\\g.munera.gonzalez\\AppData\\Local\\miniconda3\\envs\\KYC\\lib\\site-packages\\torch\\utils\\_contextlib.py:115\u001b[0m, in \u001b[0;36mcontext_decorator.<locals>.decorate_context\u001b[1;34m(*args, **kwargs)\u001b[0m\n\u001b[0;32m    112\u001b[0m \u001b[38;5;129m@functools\u001b[39m\u001b[38;5;241m.\u001b[39mwraps(func)\n\u001b[0;32m    113\u001b[0m \u001b[38;5;28;01mdef\u001b[39;00m \u001b[38;5;21mdecorate_context\u001b[39m(\u001b[38;5;241m*\u001b[39margs, \u001b[38;5;241m*\u001b[39m\u001b[38;5;241m*\u001b[39mkwargs):\n\u001b[0;32m    114\u001b[0m     \u001b[38;5;28;01mwith\u001b[39;00m ctx_factory():\n\u001b[1;32m--> 115\u001b[0m         \u001b[38;5;28;01mreturn\u001b[39;00m func(\u001b[38;5;241m*\u001b[39margs, \u001b[38;5;241m*\u001b[39m\u001b[38;5;241m*\u001b[39mkwargs)\n",
      "File \u001b[1;32m~\\.cache\\huggingface\\modules\\transformers_modules\\jinaai\\jina-bert-v2-qk-devlin-norm-1e-2\\d7eb81eb85ad2ef05cf3954e614c4fb6c9a898ce\\modeling_bert.py:1225\u001b[0m, in \u001b[0;36mJinaBertModel.encode\u001b[1;34m(self, sentences, batch_size, show_progress_bar, output_value, convert_to_numpy, convert_to_tensor, device, normalize_embeddings, **tokenizer_kwargs)\u001b[0m\n\u001b[0;32m   1219\u001b[0m \u001b[38;5;28;01mfor\u001b[39;00m i \u001b[38;5;129;01min\u001b[39;00m range_iter:\n\u001b[0;32m   1220\u001b[0m     encoded_input \u001b[38;5;241m=\u001b[39m \u001b[38;5;28mself\u001b[39m\u001b[38;5;241m.\u001b[39mtokenizer(\n\u001b[0;32m   1221\u001b[0m         sentences[i : i \u001b[38;5;241m+\u001b[39m batch_size],\n\u001b[0;32m   1222\u001b[0m         return_tensors\u001b[38;5;241m=\u001b[39m\u001b[38;5;124m'\u001b[39m\u001b[38;5;124mpt\u001b[39m\u001b[38;5;124m'\u001b[39m,\n\u001b[0;32m   1223\u001b[0m         \u001b[38;5;241m*\u001b[39m\u001b[38;5;241m*\u001b[39mtokenizer_kwargs,\n\u001b[0;32m   1224\u001b[0m     )\u001b[38;5;241m.\u001b[39mto(\u001b[38;5;28mself\u001b[39m\u001b[38;5;241m.\u001b[39mdevice)\n\u001b[1;32m-> 1225\u001b[0m     token_embs \u001b[38;5;241m=\u001b[39m \u001b[38;5;28mself\u001b[39m\u001b[38;5;241m.\u001b[39mforward(\u001b[38;5;241m*\u001b[39m\u001b[38;5;241m*\u001b[39mencoded_input)[\u001b[38;5;241m0\u001b[39m]\n\u001b[0;32m   1227\u001b[0m     \u001b[38;5;66;03m# Accumulate in fp32 to avoid overflow\u001b[39;00m\n\u001b[0;32m   1228\u001b[0m     token_embs \u001b[38;5;241m=\u001b[39m token_embs\u001b[38;5;241m.\u001b[39mfloat()\n",
      "File \u001b[1;32m~\\.cache\\huggingface\\modules\\transformers_modules\\jinaai\\jina-bert-v2-qk-devlin-norm-1e-2\\d7eb81eb85ad2ef05cf3954e614c4fb6c9a898ce\\modeling_bert.py:1420\u001b[0m, in \u001b[0;36mJinaBertModel.forward\u001b[1;34m(self, input_ids, attention_mask, token_type_ids, position_ids, head_mask, inputs_embeds, encoder_hidden_states, encoder_attention_mask, past_key_values, use_cache, output_attentions, output_hidden_states, return_dict)\u001b[0m\n\u001b[0;32m   1411\u001b[0m head_mask \u001b[38;5;241m=\u001b[39m \u001b[38;5;28mself\u001b[39m\u001b[38;5;241m.\u001b[39mget_head_mask(head_mask, \u001b[38;5;28mself\u001b[39m\u001b[38;5;241m.\u001b[39mconfig\u001b[38;5;241m.\u001b[39mnum_hidden_layers)\n\u001b[0;32m   1413\u001b[0m embedding_output \u001b[38;5;241m=\u001b[39m \u001b[38;5;28mself\u001b[39m\u001b[38;5;241m.\u001b[39membeddings(\n\u001b[0;32m   1414\u001b[0m     input_ids\u001b[38;5;241m=\u001b[39minput_ids,\n\u001b[0;32m   1415\u001b[0m     position_ids\u001b[38;5;241m=\u001b[39mposition_ids,\n\u001b[1;32m   (...)\u001b[0m\n\u001b[0;32m   1418\u001b[0m     past_key_values_length\u001b[38;5;241m=\u001b[39mpast_key_values_length,\n\u001b[0;32m   1419\u001b[0m )\n\u001b[1;32m-> 1420\u001b[0m encoder_outputs \u001b[38;5;241m=\u001b[39m \u001b[38;5;28;43mself\u001b[39;49m\u001b[38;5;241;43m.\u001b[39;49m\u001b[43mencoder\u001b[49m\u001b[43m(\u001b[49m\n\u001b[0;32m   1421\u001b[0m \u001b[43m    \u001b[49m\u001b[43membedding_output\u001b[49m\u001b[43m,\u001b[49m\n\u001b[0;32m   1422\u001b[0m \u001b[43m    \u001b[49m\u001b[43mattention_mask\u001b[49m\u001b[38;5;241;43m=\u001b[39;49m\u001b[43mextended_attention_mask\u001b[49m\u001b[43m,\u001b[49m\n\u001b[0;32m   1423\u001b[0m \u001b[43m    \u001b[49m\u001b[43mhead_mask\u001b[49m\u001b[38;5;241;43m=\u001b[39;49m\u001b[43mhead_mask\u001b[49m\u001b[43m,\u001b[49m\n\u001b[0;32m   1424\u001b[0m \u001b[43m    \u001b[49m\u001b[43mencoder_hidden_states\u001b[49m\u001b[38;5;241;43m=\u001b[39;49m\u001b[43mencoder_hidden_states\u001b[49m\u001b[43m,\u001b[49m\n\u001b[0;32m   1425\u001b[0m \u001b[43m    \u001b[49m\u001b[43mencoder_attention_mask\u001b[49m\u001b[38;5;241;43m=\u001b[39;49m\u001b[43mencoder_extended_attention_mask\u001b[49m\u001b[43m,\u001b[49m\n\u001b[0;32m   1426\u001b[0m \u001b[43m    \u001b[49m\u001b[43mpast_key_values\u001b[49m\u001b[38;5;241;43m=\u001b[39;49m\u001b[43mpast_key_values\u001b[49m\u001b[43m,\u001b[49m\n\u001b[0;32m   1427\u001b[0m \u001b[43m    \u001b[49m\u001b[43muse_cache\u001b[49m\u001b[38;5;241;43m=\u001b[39;49m\u001b[43muse_cache\u001b[49m\u001b[43m,\u001b[49m\n\u001b[0;32m   1428\u001b[0m \u001b[43m    \u001b[49m\u001b[43moutput_attentions\u001b[49m\u001b[38;5;241;43m=\u001b[39;49m\u001b[43moutput_attentions\u001b[49m\u001b[43m,\u001b[49m\n\u001b[0;32m   1429\u001b[0m \u001b[43m    \u001b[49m\u001b[43moutput_hidden_states\u001b[49m\u001b[38;5;241;43m=\u001b[39;49m\u001b[43moutput_hidden_states\u001b[49m\u001b[43m,\u001b[49m\n\u001b[0;32m   1430\u001b[0m \u001b[43m    \u001b[49m\u001b[43mreturn_dict\u001b[49m\u001b[38;5;241;43m=\u001b[39;49m\u001b[43mreturn_dict\u001b[49m\u001b[43m,\u001b[49m\n\u001b[0;32m   1431\u001b[0m \u001b[43m\u001b[49m\u001b[43m)\u001b[49m\n\u001b[0;32m   1432\u001b[0m sequence_output \u001b[38;5;241m=\u001b[39m encoder_outputs[\u001b[38;5;241m0\u001b[39m]\n\u001b[0;32m   1433\u001b[0m pooled_output \u001b[38;5;241m=\u001b[39m (\n\u001b[0;32m   1434\u001b[0m     \u001b[38;5;28mself\u001b[39m\u001b[38;5;241m.\u001b[39mpooler(sequence_output) \u001b[38;5;28;01mif\u001b[39;00m \u001b[38;5;28mself\u001b[39m\u001b[38;5;241m.\u001b[39mpooler \u001b[38;5;129;01mis\u001b[39;00m \u001b[38;5;129;01mnot\u001b[39;00m \u001b[38;5;28;01mNone\u001b[39;00m \u001b[38;5;28;01melse\u001b[39;00m \u001b[38;5;28;01mNone\u001b[39;00m\n\u001b[0;32m   1435\u001b[0m )\n",
      "File \u001b[1;32mc:\\Users\\g.munera.gonzalez\\AppData\\Local\\miniconda3\\envs\\KYC\\lib\\site-packages\\torch\\nn\\modules\\module.py:1532\u001b[0m, in \u001b[0;36mModule._wrapped_call_impl\u001b[1;34m(self, *args, **kwargs)\u001b[0m\n\u001b[0;32m   1530\u001b[0m     \u001b[38;5;28;01mreturn\u001b[39;00m \u001b[38;5;28mself\u001b[39m\u001b[38;5;241m.\u001b[39m_compiled_call_impl(\u001b[38;5;241m*\u001b[39margs, \u001b[38;5;241m*\u001b[39m\u001b[38;5;241m*\u001b[39mkwargs)  \u001b[38;5;66;03m# type: ignore[misc]\u001b[39;00m\n\u001b[0;32m   1531\u001b[0m \u001b[38;5;28;01melse\u001b[39;00m:\n\u001b[1;32m-> 1532\u001b[0m     \u001b[38;5;28;01mreturn\u001b[39;00m \u001b[38;5;28mself\u001b[39m\u001b[38;5;241m.\u001b[39m_call_impl(\u001b[38;5;241m*\u001b[39margs, \u001b[38;5;241m*\u001b[39m\u001b[38;5;241m*\u001b[39mkwargs)\n",
      "File \u001b[1;32mc:\\Users\\g.munera.gonzalez\\AppData\\Local\\miniconda3\\envs\\KYC\\lib\\site-packages\\torch\\nn\\modules\\module.py:1541\u001b[0m, in \u001b[0;36mModule._call_impl\u001b[1;34m(self, *args, **kwargs)\u001b[0m\n\u001b[0;32m   1536\u001b[0m \u001b[38;5;66;03m# If we don't have any hooks, we want to skip the rest of the logic in\u001b[39;00m\n\u001b[0;32m   1537\u001b[0m \u001b[38;5;66;03m# this function, and just call forward.\u001b[39;00m\n\u001b[0;32m   1538\u001b[0m \u001b[38;5;28;01mif\u001b[39;00m \u001b[38;5;129;01mnot\u001b[39;00m (\u001b[38;5;28mself\u001b[39m\u001b[38;5;241m.\u001b[39m_backward_hooks \u001b[38;5;129;01mor\u001b[39;00m \u001b[38;5;28mself\u001b[39m\u001b[38;5;241m.\u001b[39m_backward_pre_hooks \u001b[38;5;129;01mor\u001b[39;00m \u001b[38;5;28mself\u001b[39m\u001b[38;5;241m.\u001b[39m_forward_hooks \u001b[38;5;129;01mor\u001b[39;00m \u001b[38;5;28mself\u001b[39m\u001b[38;5;241m.\u001b[39m_forward_pre_hooks\n\u001b[0;32m   1539\u001b[0m         \u001b[38;5;129;01mor\u001b[39;00m _global_backward_pre_hooks \u001b[38;5;129;01mor\u001b[39;00m _global_backward_hooks\n\u001b[0;32m   1540\u001b[0m         \u001b[38;5;129;01mor\u001b[39;00m _global_forward_hooks \u001b[38;5;129;01mor\u001b[39;00m _global_forward_pre_hooks):\n\u001b[1;32m-> 1541\u001b[0m     \u001b[38;5;28;01mreturn\u001b[39;00m forward_call(\u001b[38;5;241m*\u001b[39margs, \u001b[38;5;241m*\u001b[39m\u001b[38;5;241m*\u001b[39mkwargs)\n\u001b[0;32m   1543\u001b[0m \u001b[38;5;28;01mtry\u001b[39;00m:\n\u001b[0;32m   1544\u001b[0m     result \u001b[38;5;241m=\u001b[39m \u001b[38;5;28;01mNone\u001b[39;00m\n",
      "File \u001b[1;32m~\\.cache\\huggingface\\modules\\transformers_modules\\jinaai\\jina-bert-v2-qk-devlin-norm-1e-2\\d7eb81eb85ad2ef05cf3954e614c4fb6c9a898ce\\modeling_bert.py:825\u001b[0m, in \u001b[0;36mJinaBertEncoder.forward\u001b[1;34m(self, hidden_states, attention_mask, head_mask, encoder_hidden_states, encoder_attention_mask, past_key_values, use_cache, output_attentions, output_hidden_states, return_dict)\u001b[0m\n\u001b[0;32m    815\u001b[0m     layer_outputs \u001b[38;5;241m=\u001b[39m torch\u001b[38;5;241m.\u001b[39mutils\u001b[38;5;241m.\u001b[39mcheckpoint\u001b[38;5;241m.\u001b[39mcheckpoint(\n\u001b[0;32m    816\u001b[0m         create_custom_forward(layer_module),\n\u001b[0;32m    817\u001b[0m         hidden_states,\n\u001b[1;32m   (...)\u001b[0m\n\u001b[0;32m    822\u001b[0m         alibi_bias,\n\u001b[0;32m    823\u001b[0m     )\n\u001b[0;32m    824\u001b[0m \u001b[38;5;28;01melse\u001b[39;00m:\n\u001b[1;32m--> 825\u001b[0m     layer_outputs \u001b[38;5;241m=\u001b[39m \u001b[43mlayer_module\u001b[49m\u001b[43m(\u001b[49m\n\u001b[0;32m    826\u001b[0m \u001b[43m        \u001b[49m\u001b[43mhidden_states\u001b[49m\u001b[43m,\u001b[49m\n\u001b[0;32m    827\u001b[0m \u001b[43m        \u001b[49m\u001b[43mattention_mask\u001b[49m\u001b[43m,\u001b[49m\n\u001b[0;32m    828\u001b[0m \u001b[43m        \u001b[49m\u001b[43mlayer_head_mask\u001b[49m\u001b[43m,\u001b[49m\n\u001b[0;32m    829\u001b[0m \u001b[43m        \u001b[49m\u001b[43mencoder_hidden_states\u001b[49m\u001b[43m,\u001b[49m\n\u001b[0;32m    830\u001b[0m \u001b[43m        \u001b[49m\u001b[43mencoder_attention_mask\u001b[49m\u001b[43m,\u001b[49m\n\u001b[0;32m    831\u001b[0m \u001b[43m        \u001b[49m\u001b[43malibi_bias\u001b[49m\u001b[43m,\u001b[49m\n\u001b[0;32m    832\u001b[0m \u001b[43m        \u001b[49m\u001b[43mpast_key_value\u001b[49m\u001b[43m,\u001b[49m\n\u001b[0;32m    833\u001b[0m \u001b[43m        \u001b[49m\u001b[43moutput_attentions\u001b[49m\u001b[43m,\u001b[49m\n\u001b[0;32m    834\u001b[0m \u001b[43m    \u001b[49m\u001b[43m)\u001b[49m\n\u001b[0;32m    836\u001b[0m hidden_states \u001b[38;5;241m=\u001b[39m layer_outputs[\u001b[38;5;241m0\u001b[39m]\n\u001b[0;32m    837\u001b[0m \u001b[38;5;28;01mif\u001b[39;00m use_cache:\n",
      "File \u001b[1;32mc:\\Users\\g.munera.gonzalez\\AppData\\Local\\miniconda3\\envs\\KYC\\lib\\site-packages\\torch\\nn\\modules\\module.py:1532\u001b[0m, in \u001b[0;36mModule._wrapped_call_impl\u001b[1;34m(self, *args, **kwargs)\u001b[0m\n\u001b[0;32m   1530\u001b[0m     \u001b[38;5;28;01mreturn\u001b[39;00m \u001b[38;5;28mself\u001b[39m\u001b[38;5;241m.\u001b[39m_compiled_call_impl(\u001b[38;5;241m*\u001b[39margs, \u001b[38;5;241m*\u001b[39m\u001b[38;5;241m*\u001b[39mkwargs)  \u001b[38;5;66;03m# type: ignore[misc]\u001b[39;00m\n\u001b[0;32m   1531\u001b[0m \u001b[38;5;28;01melse\u001b[39;00m:\n\u001b[1;32m-> 1532\u001b[0m     \u001b[38;5;28;01mreturn\u001b[39;00m \u001b[38;5;28mself\u001b[39m\u001b[38;5;241m.\u001b[39m_call_impl(\u001b[38;5;241m*\u001b[39margs, \u001b[38;5;241m*\u001b[39m\u001b[38;5;241m*\u001b[39mkwargs)\n",
      "File \u001b[1;32mc:\\Users\\g.munera.gonzalez\\AppData\\Local\\miniconda3\\envs\\KYC\\lib\\site-packages\\torch\\nn\\modules\\module.py:1541\u001b[0m, in \u001b[0;36mModule._call_impl\u001b[1;34m(self, *args, **kwargs)\u001b[0m\n\u001b[0;32m   1536\u001b[0m \u001b[38;5;66;03m# If we don't have any hooks, we want to skip the rest of the logic in\u001b[39;00m\n\u001b[0;32m   1537\u001b[0m \u001b[38;5;66;03m# this function, and just call forward.\u001b[39;00m\n\u001b[0;32m   1538\u001b[0m \u001b[38;5;28;01mif\u001b[39;00m \u001b[38;5;129;01mnot\u001b[39;00m (\u001b[38;5;28mself\u001b[39m\u001b[38;5;241m.\u001b[39m_backward_hooks \u001b[38;5;129;01mor\u001b[39;00m \u001b[38;5;28mself\u001b[39m\u001b[38;5;241m.\u001b[39m_backward_pre_hooks \u001b[38;5;129;01mor\u001b[39;00m \u001b[38;5;28mself\u001b[39m\u001b[38;5;241m.\u001b[39m_forward_hooks \u001b[38;5;129;01mor\u001b[39;00m \u001b[38;5;28mself\u001b[39m\u001b[38;5;241m.\u001b[39m_forward_pre_hooks\n\u001b[0;32m   1539\u001b[0m         \u001b[38;5;129;01mor\u001b[39;00m _global_backward_pre_hooks \u001b[38;5;129;01mor\u001b[39;00m _global_backward_hooks\n\u001b[0;32m   1540\u001b[0m         \u001b[38;5;129;01mor\u001b[39;00m _global_forward_hooks \u001b[38;5;129;01mor\u001b[39;00m _global_forward_pre_hooks):\n\u001b[1;32m-> 1541\u001b[0m     \u001b[38;5;28;01mreturn\u001b[39;00m forward_call(\u001b[38;5;241m*\u001b[39margs, \u001b[38;5;241m*\u001b[39m\u001b[38;5;241m*\u001b[39mkwargs)\n\u001b[0;32m   1543\u001b[0m \u001b[38;5;28;01mtry\u001b[39;00m:\n\u001b[0;32m   1544\u001b[0m     result \u001b[38;5;241m=\u001b[39m \u001b[38;5;28;01mNone\u001b[39;00m\n",
      "File \u001b[1;32m~\\.cache\\huggingface\\modules\\transformers_modules\\jinaai\\jina-bert-v2-qk-devlin-norm-1e-2\\d7eb81eb85ad2ef05cf3954e614c4fb6c9a898ce\\modeling_bert.py:621\u001b[0m, in \u001b[0;36mJinaBertLayer.forward\u001b[1;34m(self, hidden_states, attention_mask, head_mask, encoder_hidden_states, encoder_attention_mask, bias, past_key_value, output_attentions)\u001b[0m\n\u001b[0;32m    606\u001b[0m \u001b[38;5;28;01mdef\u001b[39;00m \u001b[38;5;21mforward\u001b[39m(\n\u001b[0;32m    607\u001b[0m     \u001b[38;5;28mself\u001b[39m,\n\u001b[0;32m    608\u001b[0m     hidden_states: torch\u001b[38;5;241m.\u001b[39mTensor,\n\u001b[1;32m   (...)\u001b[0m\n\u001b[0;32m    616\u001b[0m ) \u001b[38;5;241m-\u001b[39m\u001b[38;5;241m>\u001b[39m Tuple[torch\u001b[38;5;241m.\u001b[39mTensor]:\n\u001b[0;32m    617\u001b[0m     \u001b[38;5;66;03m# decoder uni-directional self-attention cached key/values tuple is at positions 1,2\u001b[39;00m\n\u001b[0;32m    618\u001b[0m     self_attn_past_key_value \u001b[38;5;241m=\u001b[39m (\n\u001b[0;32m    619\u001b[0m         past_key_value[:\u001b[38;5;241m2\u001b[39m] \u001b[38;5;28;01mif\u001b[39;00m past_key_value \u001b[38;5;129;01mis\u001b[39;00m \u001b[38;5;129;01mnot\u001b[39;00m \u001b[38;5;28;01mNone\u001b[39;00m \u001b[38;5;28;01melse\u001b[39;00m \u001b[38;5;28;01mNone\u001b[39;00m\n\u001b[0;32m    620\u001b[0m     )\n\u001b[1;32m--> 621\u001b[0m     self_attention_outputs \u001b[38;5;241m=\u001b[39m \u001b[38;5;28;43mself\u001b[39;49m\u001b[38;5;241;43m.\u001b[39;49m\u001b[43mattention\u001b[49m\u001b[43m(\u001b[49m\n\u001b[0;32m    622\u001b[0m \u001b[43m        \u001b[49m\u001b[43mhidden_states\u001b[49m\u001b[43m,\u001b[49m\n\u001b[0;32m    623\u001b[0m \u001b[43m        \u001b[49m\u001b[43mattention_mask\u001b[49m\u001b[43m,\u001b[49m\n\u001b[0;32m    624\u001b[0m \u001b[43m        \u001b[49m\u001b[43mhead_mask\u001b[49m\u001b[43m,\u001b[49m\n\u001b[0;32m    625\u001b[0m \u001b[43m        \u001b[49m\u001b[43moutput_attentions\u001b[49m\u001b[38;5;241;43m=\u001b[39;49m\u001b[43moutput_attentions\u001b[49m\u001b[43m,\u001b[49m\n\u001b[0;32m    626\u001b[0m \u001b[43m        \u001b[49m\u001b[43mpast_key_value\u001b[49m\u001b[38;5;241;43m=\u001b[39;49m\u001b[43mself_attn_past_key_value\u001b[49m\u001b[43m,\u001b[49m\n\u001b[0;32m    627\u001b[0m \u001b[43m        \u001b[49m\u001b[43mbias\u001b[49m\u001b[38;5;241;43m=\u001b[39;49m\u001b[43mbias\u001b[49m\u001b[43m,\u001b[49m\n\u001b[0;32m    628\u001b[0m \u001b[43m    \u001b[49m\u001b[43m)\u001b[49m\n\u001b[0;32m    629\u001b[0m     attention_output \u001b[38;5;241m=\u001b[39m self_attention_outputs[\u001b[38;5;241m0\u001b[39m]\n\u001b[0;32m    631\u001b[0m     \u001b[38;5;66;03m# if decoder, the last output is tuple of self-attn cache\u001b[39;00m\n",
      "File \u001b[1;32mc:\\Users\\g.munera.gonzalez\\AppData\\Local\\miniconda3\\envs\\KYC\\lib\\site-packages\\torch\\nn\\modules\\module.py:1532\u001b[0m, in \u001b[0;36mModule._wrapped_call_impl\u001b[1;34m(self, *args, **kwargs)\u001b[0m\n\u001b[0;32m   1530\u001b[0m     \u001b[38;5;28;01mreturn\u001b[39;00m \u001b[38;5;28mself\u001b[39m\u001b[38;5;241m.\u001b[39m_compiled_call_impl(\u001b[38;5;241m*\u001b[39margs, \u001b[38;5;241m*\u001b[39m\u001b[38;5;241m*\u001b[39mkwargs)  \u001b[38;5;66;03m# type: ignore[misc]\u001b[39;00m\n\u001b[0;32m   1531\u001b[0m \u001b[38;5;28;01melse\u001b[39;00m:\n\u001b[1;32m-> 1532\u001b[0m     \u001b[38;5;28;01mreturn\u001b[39;00m \u001b[38;5;28mself\u001b[39m\u001b[38;5;241m.\u001b[39m_call_impl(\u001b[38;5;241m*\u001b[39margs, \u001b[38;5;241m*\u001b[39m\u001b[38;5;241m*\u001b[39mkwargs)\n",
      "File \u001b[1;32mc:\\Users\\g.munera.gonzalez\\AppData\\Local\\miniconda3\\envs\\KYC\\lib\\site-packages\\torch\\nn\\modules\\module.py:1541\u001b[0m, in \u001b[0;36mModule._call_impl\u001b[1;34m(self, *args, **kwargs)\u001b[0m\n\u001b[0;32m   1536\u001b[0m \u001b[38;5;66;03m# If we don't have any hooks, we want to skip the rest of the logic in\u001b[39;00m\n\u001b[0;32m   1537\u001b[0m \u001b[38;5;66;03m# this function, and just call forward.\u001b[39;00m\n\u001b[0;32m   1538\u001b[0m \u001b[38;5;28;01mif\u001b[39;00m \u001b[38;5;129;01mnot\u001b[39;00m (\u001b[38;5;28mself\u001b[39m\u001b[38;5;241m.\u001b[39m_backward_hooks \u001b[38;5;129;01mor\u001b[39;00m \u001b[38;5;28mself\u001b[39m\u001b[38;5;241m.\u001b[39m_backward_pre_hooks \u001b[38;5;129;01mor\u001b[39;00m \u001b[38;5;28mself\u001b[39m\u001b[38;5;241m.\u001b[39m_forward_hooks \u001b[38;5;129;01mor\u001b[39;00m \u001b[38;5;28mself\u001b[39m\u001b[38;5;241m.\u001b[39m_forward_pre_hooks\n\u001b[0;32m   1539\u001b[0m         \u001b[38;5;129;01mor\u001b[39;00m _global_backward_pre_hooks \u001b[38;5;129;01mor\u001b[39;00m _global_backward_hooks\n\u001b[0;32m   1540\u001b[0m         \u001b[38;5;129;01mor\u001b[39;00m _global_forward_hooks \u001b[38;5;129;01mor\u001b[39;00m _global_forward_pre_hooks):\n\u001b[1;32m-> 1541\u001b[0m     \u001b[38;5;28;01mreturn\u001b[39;00m forward_call(\u001b[38;5;241m*\u001b[39margs, \u001b[38;5;241m*\u001b[39m\u001b[38;5;241m*\u001b[39mkwargs)\n\u001b[0;32m   1543\u001b[0m \u001b[38;5;28;01mtry\u001b[39;00m:\n\u001b[0;32m   1544\u001b[0m     result \u001b[38;5;241m=\u001b[39m \u001b[38;5;28;01mNone\u001b[39;00m\n",
      "File \u001b[1;32m~\\.cache\\huggingface\\modules\\transformers_modules\\jinaai\\jina-bert-v2-qk-devlin-norm-1e-2\\d7eb81eb85ad2ef05cf3954e614c4fb6c9a898ce\\modeling_bert.py:501\u001b[0m, in \u001b[0;36mJinaBertAttention.forward\u001b[1;34m(self, hidden_states, attention_mask, head_mask, encoder_hidden_states, encoder_attention_mask, past_key_value, output_attentions, bias)\u001b[0m\n\u001b[0;32m    490\u001b[0m \u001b[38;5;28;01mdef\u001b[39;00m \u001b[38;5;21mforward\u001b[39m(\n\u001b[0;32m    491\u001b[0m     \u001b[38;5;28mself\u001b[39m,\n\u001b[0;32m    492\u001b[0m     hidden_states: torch\u001b[38;5;241m.\u001b[39mTensor,\n\u001b[1;32m   (...)\u001b[0m\n\u001b[0;32m    499\u001b[0m     bias: Optional[torch\u001b[38;5;241m.\u001b[39mFloatTensor] \u001b[38;5;241m=\u001b[39m \u001b[38;5;28;01mNone\u001b[39;00m,\n\u001b[0;32m    500\u001b[0m ) \u001b[38;5;241m-\u001b[39m\u001b[38;5;241m>\u001b[39m Tuple[torch\u001b[38;5;241m.\u001b[39mTensor]:\n\u001b[1;32m--> 501\u001b[0m     self_outputs \u001b[38;5;241m=\u001b[39m \u001b[38;5;28;43mself\u001b[39;49m\u001b[38;5;241;43m.\u001b[39;49m\u001b[43mself\u001b[49m\u001b[43m(\u001b[49m\n\u001b[0;32m    502\u001b[0m \u001b[43m        \u001b[49m\u001b[43mhidden_states\u001b[49m\u001b[43m,\u001b[49m\n\u001b[0;32m    503\u001b[0m \u001b[43m        \u001b[49m\u001b[43mattention_mask\u001b[49m\u001b[43m,\u001b[49m\n\u001b[0;32m    504\u001b[0m \u001b[43m        \u001b[49m\u001b[43mhead_mask\u001b[49m\u001b[43m,\u001b[49m\n\u001b[0;32m    505\u001b[0m \u001b[43m        \u001b[49m\u001b[43mencoder_hidden_states\u001b[49m\u001b[43m,\u001b[49m\n\u001b[0;32m    506\u001b[0m \u001b[43m        \u001b[49m\u001b[43mencoder_attention_mask\u001b[49m\u001b[43m,\u001b[49m\n\u001b[0;32m    507\u001b[0m \u001b[43m        \u001b[49m\u001b[43mpast_key_value\u001b[49m\u001b[43m,\u001b[49m\n\u001b[0;32m    508\u001b[0m \u001b[43m        \u001b[49m\u001b[43moutput_attentions\u001b[49m\u001b[43m,\u001b[49m\n\u001b[0;32m    509\u001b[0m \u001b[43m        \u001b[49m\u001b[43mbias\u001b[49m\u001b[43m,\u001b[49m\n\u001b[0;32m    510\u001b[0m \u001b[43m    \u001b[49m\u001b[43m)\u001b[49m\n\u001b[0;32m    511\u001b[0m     attention_output \u001b[38;5;241m=\u001b[39m \u001b[38;5;28mself\u001b[39m\u001b[38;5;241m.\u001b[39moutput(self_outputs[\u001b[38;5;241m0\u001b[39m], hidden_states)\n\u001b[0;32m    512\u001b[0m     outputs \u001b[38;5;241m=\u001b[39m (attention_output,) \u001b[38;5;241m+\u001b[39m self_outputs[\n\u001b[0;32m    513\u001b[0m         \u001b[38;5;241m1\u001b[39m:\n\u001b[0;32m    514\u001b[0m     ]  \u001b[38;5;66;03m# add attentions if we output them\u001b[39;00m\n",
      "File \u001b[1;32mc:\\Users\\g.munera.gonzalez\\AppData\\Local\\miniconda3\\envs\\KYC\\lib\\site-packages\\torch\\nn\\modules\\module.py:1532\u001b[0m, in \u001b[0;36mModule._wrapped_call_impl\u001b[1;34m(self, *args, **kwargs)\u001b[0m\n\u001b[0;32m   1530\u001b[0m     \u001b[38;5;28;01mreturn\u001b[39;00m \u001b[38;5;28mself\u001b[39m\u001b[38;5;241m.\u001b[39m_compiled_call_impl(\u001b[38;5;241m*\u001b[39margs, \u001b[38;5;241m*\u001b[39m\u001b[38;5;241m*\u001b[39mkwargs)  \u001b[38;5;66;03m# type: ignore[misc]\u001b[39;00m\n\u001b[0;32m   1531\u001b[0m \u001b[38;5;28;01melse\u001b[39;00m:\n\u001b[1;32m-> 1532\u001b[0m     \u001b[38;5;28;01mreturn\u001b[39;00m \u001b[38;5;28mself\u001b[39m\u001b[38;5;241m.\u001b[39m_call_impl(\u001b[38;5;241m*\u001b[39margs, \u001b[38;5;241m*\u001b[39m\u001b[38;5;241m*\u001b[39mkwargs)\n",
      "File \u001b[1;32mc:\\Users\\g.munera.gonzalez\\AppData\\Local\\miniconda3\\envs\\KYC\\lib\\site-packages\\torch\\nn\\modules\\module.py:1541\u001b[0m, in \u001b[0;36mModule._call_impl\u001b[1;34m(self, *args, **kwargs)\u001b[0m\n\u001b[0;32m   1536\u001b[0m \u001b[38;5;66;03m# If we don't have any hooks, we want to skip the rest of the logic in\u001b[39;00m\n\u001b[0;32m   1537\u001b[0m \u001b[38;5;66;03m# this function, and just call forward.\u001b[39;00m\n\u001b[0;32m   1538\u001b[0m \u001b[38;5;28;01mif\u001b[39;00m \u001b[38;5;129;01mnot\u001b[39;00m (\u001b[38;5;28mself\u001b[39m\u001b[38;5;241m.\u001b[39m_backward_hooks \u001b[38;5;129;01mor\u001b[39;00m \u001b[38;5;28mself\u001b[39m\u001b[38;5;241m.\u001b[39m_backward_pre_hooks \u001b[38;5;129;01mor\u001b[39;00m \u001b[38;5;28mself\u001b[39m\u001b[38;5;241m.\u001b[39m_forward_hooks \u001b[38;5;129;01mor\u001b[39;00m \u001b[38;5;28mself\u001b[39m\u001b[38;5;241m.\u001b[39m_forward_pre_hooks\n\u001b[0;32m   1539\u001b[0m         \u001b[38;5;129;01mor\u001b[39;00m _global_backward_pre_hooks \u001b[38;5;129;01mor\u001b[39;00m _global_backward_hooks\n\u001b[0;32m   1540\u001b[0m         \u001b[38;5;129;01mor\u001b[39;00m _global_forward_hooks \u001b[38;5;129;01mor\u001b[39;00m _global_forward_pre_hooks):\n\u001b[1;32m-> 1541\u001b[0m     \u001b[38;5;28;01mreturn\u001b[39;00m forward_call(\u001b[38;5;241m*\u001b[39margs, \u001b[38;5;241m*\u001b[39m\u001b[38;5;241m*\u001b[39mkwargs)\n\u001b[0;32m   1543\u001b[0m \u001b[38;5;28;01mtry\u001b[39;00m:\n\u001b[0;32m   1544\u001b[0m     result \u001b[38;5;241m=\u001b[39m \u001b[38;5;28;01mNone\u001b[39;00m\n",
      "File \u001b[1;32m~\\.cache\\huggingface\\modules\\transformers_modules\\jinaai\\jina-bert-v2-qk-devlin-norm-1e-2\\d7eb81eb85ad2ef05cf3954e614c4fb6c9a898ce\\modeling_bert.py:412\u001b[0m, in \u001b[0;36mJinaBertSelfAttention.forward\u001b[1;34m(self, hidden_states, attention_mask, head_mask, encoder_hidden_states, encoder_attention_mask, past_key_value, output_attentions, bias)\u001b[0m\n\u001b[0;32m    403\u001b[0m         relative_position_scores_key \u001b[38;5;241m=\u001b[39m torch\u001b[38;5;241m.\u001b[39meinsum(\n\u001b[0;32m    404\u001b[0m             \u001b[38;5;124m\"\u001b[39m\u001b[38;5;124mbhrd,lrd->bhlr\u001b[39m\u001b[38;5;124m\"\u001b[39m, key_layer, positional_embedding\n\u001b[0;32m    405\u001b[0m         )\n\u001b[0;32m    406\u001b[0m         attention_scores \u001b[38;5;241m=\u001b[39m (\n\u001b[0;32m    407\u001b[0m             attention_scores\n\u001b[0;32m    408\u001b[0m             \u001b[38;5;241m+\u001b[39m relative_position_scores_query\n\u001b[0;32m    409\u001b[0m             \u001b[38;5;241m+\u001b[39m relative_position_scores_key\n\u001b[0;32m    410\u001b[0m         )\n\u001b[1;32m--> 412\u001b[0m attention_scores \u001b[38;5;241m=\u001b[39m \u001b[43mattention_scores\u001b[49m\u001b[43m \u001b[49m\u001b[38;5;241;43m/\u001b[39;49m\u001b[43m \u001b[49m\u001b[43mmath\u001b[49m\u001b[38;5;241;43m.\u001b[39;49m\u001b[43msqrt\u001b[49m\u001b[43m(\u001b[49m\u001b[38;5;28;43mself\u001b[39;49m\u001b[38;5;241;43m.\u001b[39;49m\u001b[43mattention_head_size\u001b[49m\u001b[43m)\u001b[49m\n\u001b[0;32m    413\u001b[0m \u001b[38;5;28;01mif\u001b[39;00m attention_mask \u001b[38;5;129;01mis\u001b[39;00m \u001b[38;5;129;01mnot\u001b[39;00m \u001b[38;5;28;01mNone\u001b[39;00m:\n\u001b[0;32m    414\u001b[0m     \u001b[38;5;66;03m# Apply the attention mask is (precomputed for all layers in BertModel forward() function)\u001b[39;00m\n\u001b[0;32m    415\u001b[0m     attention_scores \u001b[38;5;241m=\u001b[39m attention_scores \u001b[38;5;241m+\u001b[39m attention_mask\n",
      "\u001b[1;31mRuntimeError\u001b[0m: [enforce fail at alloc_cpu.cpp:114] data. DefaultCPUAllocator: not enough memory: you tried to allocate 14828660640 bytes."
     ]
    }
   ],
   "source": [
    "scraper = scrap_news()\n",
    "scraper.scrap(news)\n",
    "dates = get_dates(news)"
   ]
  },
  {
   "cell_type": "code",
   "execution_count": null,
   "metadata": {},
   "outputs": [],
   "source": [
    "company = 'Ecopetrol'\n",
    "news_docs = []\n",
    "for i in range(len(scraper.content)):\n",
    "    doc = {\n",
    "        'content': scraper.content[i],\n",
    "        'metadata': {\n",
    "            'title': structured_response[i]['title'],\n",
    "            'source': structured_response[i]['metadata']['source'],\n",
    "            'date': dates[i],\n",
    "            'company': company\n",
    "        }\n",
    "    }\n",
    "    news_docs.append(doc)"
   ]
  },
  {
   "cell_type": "code",
   "execution_count": 2,
   "metadata": {},
   "outputs": [
    {
     "name": "stderr",
     "output_type": "stream",
     "text": [
      "source:larepublica-company:Ecopetrol:   7%|▋         | 1/15 [00:00<?, ?it/s]"
     ]
    },
    {
     "ename": "KeyboardInterrupt",
     "evalue": "",
     "output_type": "error",
     "traceback": [
      "\u001b[1;31m---------------------------------------------------------------------------\u001b[0m",
      "\u001b[1;31mKeyboardInterrupt\u001b[0m                         Traceback (most recent call last)",
      "Cell \u001b[1;32mIn[2], line 30\u001b[0m\n\u001b[0;32m     28\u001b[0m pbar\u001b[38;5;241m.\u001b[39mset_description(\u001b[38;5;124mf\u001b[39m\u001b[38;5;124m'\u001b[39m\u001b[38;5;124msource:\u001b[39m\u001b[38;5;132;01m{\u001b[39;00msource\u001b[38;5;132;01m}\u001b[39;00m\u001b[38;5;124m-company:\u001b[39m\u001b[38;5;132;01m{\u001b[39;00mcompany\u001b[38;5;132;01m}\u001b[39;00m\u001b[38;5;124m'\u001b[39m)\n\u001b[0;32m     29\u001b[0m time\u001b[38;5;241m.\u001b[39msleep(\u001b[38;5;241m3\u001b[39m)\n\u001b[1;32m---> 30\u001b[0m results \u001b[38;5;241m=\u001b[39m \u001b[43mDDGS\u001b[49m\u001b[43m(\u001b[49m\u001b[43m)\u001b[49m\u001b[38;5;241;43m.\u001b[39;49m\u001b[43mtext\u001b[49m\u001b[43m(\u001b[49m\n\u001b[0;32m     31\u001b[0m \u001b[43m    \u001b[49m\u001b[43mkeywords\u001b[49m\u001b[38;5;241;43m=\u001b[39;49m\u001b[38;5;124;43mf\u001b[39;49m\u001b[38;5;124;43m'\u001b[39;49m\u001b[38;5;132;43;01m{\u001b[39;49;00m\u001b[43mcompany\u001b[49m\u001b[38;5;132;43;01m}\u001b[39;49;00m\u001b[38;5;124;43m site:\u001b[39;49m\u001b[38;5;132;43;01m{\u001b[39;49;00m\u001b[43msources_links\u001b[49m\u001b[43m[\u001b[49m\u001b[43msource\u001b[49m\u001b[43m]\u001b[49m\u001b[38;5;132;43;01m}\u001b[39;49;00m\u001b[38;5;124;43m'\u001b[39;49m\u001b[43m,\u001b[49m\n\u001b[0;32m     32\u001b[0m \u001b[43m    \u001b[49m\u001b[43mmax_results\u001b[49m\u001b[38;5;241;43m=\u001b[39;49m\u001b[38;5;241;43m10\u001b[39;49m\u001b[43m,\u001b[49m\n\u001b[0;32m     33\u001b[0m \u001b[43m    \u001b[49m\u001b[43msafesearch\u001b[49m\u001b[38;5;241;43m=\u001b[39;49m\u001b[38;5;124;43m'\u001b[39;49m\u001b[38;5;124;43moff\u001b[39;49m\u001b[38;5;124;43m'\u001b[39;49m\u001b[43m,\u001b[49m\n\u001b[0;32m     34\u001b[0m \u001b[43m    \u001b[49m\u001b[43mtimelimit\u001b[49m\u001b[38;5;241;43m=\u001b[39;49m\u001b[38;5;124;43m'\u001b[39;49m\u001b[38;5;124;43mw\u001b[39;49m\u001b[38;5;124;43m'\u001b[39;49m\n\u001b[0;32m     35\u001b[0m \u001b[43m    \u001b[49m\u001b[43m)\u001b[49m\n\u001b[0;32m     36\u001b[0m \u001b[38;5;28;01mif\u001b[39;00m \u001b[38;5;28mlen\u001b[39m(results):\n\u001b[0;32m     37\u001b[0m     aux[company] \u001b[38;5;241m=\u001b[39m [json_[\u001b[38;5;124m'\u001b[39m\u001b[38;5;124mhref\u001b[39m\u001b[38;5;124m'\u001b[39m] \u001b[38;5;28;01mfor\u001b[39;00m json_ \u001b[38;5;129;01min\u001b[39;00m results]\n",
      "File \u001b[1;32mc:\\Users\\g.munera.gonzalez\\AppData\\Local\\miniconda3\\envs\\KYC\\lib\\site-packages\\duckduckgo_search\\duckduckgo_search.py:200\u001b[0m, in \u001b[0;36mDDGS.text\u001b[1;34m(self, keywords, region, safesearch, timelimit, backend, max_results)\u001b[0m\n\u001b[0;32m    197\u001b[0m     warnings\u001b[38;5;241m.\u001b[39mwarn(\u001b[38;5;124m\"\u001b[39m\u001b[38;5;124mlxml is not installed. Using backend=\u001b[39m\u001b[38;5;124m'\u001b[39m\u001b[38;5;124mapi\u001b[39m\u001b[38;5;124m'\u001b[39m\u001b[38;5;124m.\u001b[39m\u001b[38;5;124m\"\u001b[39m, stacklevel\u001b[38;5;241m=\u001b[39m\u001b[38;5;241m2\u001b[39m)\n\u001b[0;32m    199\u001b[0m \u001b[38;5;28;01mif\u001b[39;00m backend \u001b[38;5;241m==\u001b[39m \u001b[38;5;124m\"\u001b[39m\u001b[38;5;124mapi\u001b[39m\u001b[38;5;124m\"\u001b[39m:\n\u001b[1;32m--> 200\u001b[0m     results \u001b[38;5;241m=\u001b[39m \u001b[38;5;28;43mself\u001b[39;49m\u001b[38;5;241;43m.\u001b[39;49m\u001b[43m_text_api\u001b[49m\u001b[43m(\u001b[49m\u001b[43mkeywords\u001b[49m\u001b[43m,\u001b[49m\u001b[43m \u001b[49m\u001b[43mregion\u001b[49m\u001b[43m,\u001b[49m\u001b[43m \u001b[49m\u001b[43msafesearch\u001b[49m\u001b[43m,\u001b[49m\u001b[43m \u001b[49m\u001b[43mtimelimit\u001b[49m\u001b[43m,\u001b[49m\u001b[43m \u001b[49m\u001b[43mmax_results\u001b[49m\u001b[43m)\u001b[49m\n\u001b[0;32m    201\u001b[0m \u001b[38;5;28;01melif\u001b[39;00m backend \u001b[38;5;241m==\u001b[39m \u001b[38;5;124m\"\u001b[39m\u001b[38;5;124mhtml\u001b[39m\u001b[38;5;124m\"\u001b[39m:\n\u001b[0;32m    202\u001b[0m     results \u001b[38;5;241m=\u001b[39m \u001b[38;5;28mself\u001b[39m\u001b[38;5;241m.\u001b[39m_text_html(keywords, region, timelimit, max_results)\n",
      "File \u001b[1;32mc:\\Users\\g.munera.gonzalez\\AppData\\Local\\miniconda3\\envs\\KYC\\lib\\site-packages\\duckduckgo_search\\duckduckgo_search.py:234\u001b[0m, in \u001b[0;36mDDGS._text_api\u001b[1;34m(self, keywords, region, safesearch, timelimit, max_results)\u001b[0m\n\u001b[0;32m    215\u001b[0m \u001b[38;5;250m\u001b[39m\u001b[38;5;124;03m\"\"\"DuckDuckGo text search. Query params: https://duckduckgo.com/params.\u001b[39;00m\n\u001b[0;32m    216\u001b[0m \n\u001b[0;32m    217\u001b[0m \u001b[38;5;124;03mArgs:\u001b[39;00m\n\u001b[1;32m   (...)\u001b[0m\n\u001b[0;32m    230\u001b[0m \u001b[38;5;124;03m    TimeoutException: Inherits from DuckDuckGoSearchException, raised for API request timeouts.\u001b[39;00m\n\u001b[0;32m    231\u001b[0m \u001b[38;5;124;03m\"\"\"\u001b[39;00m\n\u001b[0;32m    232\u001b[0m \u001b[38;5;28;01massert\u001b[39;00m keywords, \u001b[38;5;124m\"\u001b[39m\u001b[38;5;124mkeywords is mandatory\u001b[39m\u001b[38;5;124m\"\u001b[39m\n\u001b[1;32m--> 234\u001b[0m vqd \u001b[38;5;241m=\u001b[39m \u001b[38;5;28;43mself\u001b[39;49m\u001b[38;5;241;43m.\u001b[39;49m\u001b[43m_get_vqd\u001b[49m\u001b[43m(\u001b[49m\u001b[43mkeywords\u001b[49m\u001b[43m)\u001b[49m\n\u001b[0;32m    236\u001b[0m payload \u001b[38;5;241m=\u001b[39m {\n\u001b[0;32m    237\u001b[0m     \u001b[38;5;124m\"\u001b[39m\u001b[38;5;124mq\u001b[39m\u001b[38;5;124m\"\u001b[39m: keywords,\n\u001b[0;32m    238\u001b[0m     \u001b[38;5;124m\"\u001b[39m\u001b[38;5;124mkl\u001b[39m\u001b[38;5;124m\"\u001b[39m: region,\n\u001b[1;32m   (...)\u001b[0m\n\u001b[0;32m    245\u001b[0m     \u001b[38;5;124m\"\u001b[39m\u001b[38;5;124mex\u001b[39m\u001b[38;5;124m\"\u001b[39m: \u001b[38;5;124m\"\u001b[39m\u001b[38;5;124m\"\u001b[39m,\n\u001b[0;32m    246\u001b[0m }\n\u001b[0;32m    247\u001b[0m safesearch \u001b[38;5;241m=\u001b[39m safesearch\u001b[38;5;241m.\u001b[39mlower()\n",
      "File \u001b[1;32mc:\\Users\\g.munera.gonzalez\\AppData\\Local\\miniconda3\\envs\\KYC\\lib\\site-packages\\duckduckgo_search\\duckduckgo_search.py:120\u001b[0m, in \u001b[0;36mDDGS._get_vqd\u001b[1;34m(self, keywords)\u001b[0m\n\u001b[0;32m    118\u001b[0m \u001b[38;5;28;01mdef\u001b[39;00m \u001b[38;5;21m_get_vqd\u001b[39m(\u001b[38;5;28mself\u001b[39m, keywords: \u001b[38;5;28mstr\u001b[39m) \u001b[38;5;241m-\u001b[39m\u001b[38;5;241m>\u001b[39m \u001b[38;5;28mstr\u001b[39m:\n\u001b[0;32m    119\u001b[0m \u001b[38;5;250m    \u001b[39m\u001b[38;5;124;03m\"\"\"Get vqd value for a search query.\"\"\"\u001b[39;00m\n\u001b[1;32m--> 120\u001b[0m     resp_content \u001b[38;5;241m=\u001b[39m \u001b[38;5;28;43mself\u001b[39;49m\u001b[38;5;241;43m.\u001b[39;49m\u001b[43m_get_url\u001b[49m\u001b[43m(\u001b[49m\u001b[38;5;124;43m\"\u001b[39;49m\u001b[38;5;124;43mPOST\u001b[39;49m\u001b[38;5;124;43m\"\u001b[39;49m\u001b[43m,\u001b[49m\u001b[43m \u001b[49m\u001b[38;5;124;43m\"\u001b[39;49m\u001b[38;5;124;43mhttps://duckduckgo.com\u001b[39;49m\u001b[38;5;124;43m\"\u001b[39;49m\u001b[43m,\u001b[49m\u001b[43m \u001b[49m\u001b[43mdata\u001b[49m\u001b[38;5;241;43m=\u001b[39;49m\u001b[43m{\u001b[49m\u001b[38;5;124;43m\"\u001b[39;49m\u001b[38;5;124;43mq\u001b[39;49m\u001b[38;5;124;43m\"\u001b[39;49m\u001b[43m:\u001b[49m\u001b[43m \u001b[49m\u001b[43mkeywords\u001b[49m\u001b[43m}\u001b[49m\u001b[43m)\u001b[49m\n\u001b[0;32m    121\u001b[0m     \u001b[38;5;28;01mreturn\u001b[39;00m _extract_vqd(resp_content, keywords)\n",
      "File \u001b[1;32mc:\\Users\\g.munera.gonzalez\\AppData\\Local\\miniconda3\\envs\\KYC\\lib\\site-packages\\duckduckgo_search\\duckduckgo_search.py:104\u001b[0m, in \u001b[0;36mDDGS._get_url\u001b[1;34m(self, method, url, params, content, data)\u001b[0m\n\u001b[0;32m    102\u001b[0m     \u001b[38;5;28;01mraise\u001b[39;00m DuckDuckGoSearchException(\u001b[38;5;124m\"\u001b[39m\u001b[38;5;124mException occurred in previous call.\u001b[39m\u001b[38;5;124m\"\u001b[39m)\n\u001b[0;32m    103\u001b[0m \u001b[38;5;28;01mtry\u001b[39;00m:\n\u001b[1;32m--> 104\u001b[0m     resp \u001b[38;5;241m=\u001b[39m \u001b[38;5;28;43mself\u001b[39;49m\u001b[38;5;241;43m.\u001b[39;49m\u001b[43mclient\u001b[49m\u001b[38;5;241;43m.\u001b[39;49m\u001b[43mrequest\u001b[49m\u001b[43m(\u001b[49m\u001b[43mmethod\u001b[49m\u001b[43m,\u001b[49m\u001b[43m \u001b[49m\u001b[43murl\u001b[49m\u001b[43m,\u001b[49m\u001b[43m \u001b[49m\u001b[43mparams\u001b[49m\u001b[38;5;241;43m=\u001b[39;49m\u001b[43mparams\u001b[49m\u001b[43m,\u001b[49m\u001b[43m \u001b[49m\u001b[43mcontent\u001b[49m\u001b[38;5;241;43m=\u001b[39;49m\u001b[43mcontent\u001b[49m\u001b[43m,\u001b[49m\u001b[43m \u001b[49m\u001b[43mdata\u001b[49m\u001b[38;5;241;43m=\u001b[39;49m\u001b[43mdata\u001b[49m\u001b[43m)\u001b[49m\n\u001b[0;32m    105\u001b[0m \u001b[38;5;28;01mexcept\u001b[39;00m \u001b[38;5;167;01mException\u001b[39;00m \u001b[38;5;28;01mas\u001b[39;00m ex:\n\u001b[0;32m    106\u001b[0m     \u001b[38;5;28mself\u001b[39m\u001b[38;5;241m.\u001b[39m_exception_event\u001b[38;5;241m.\u001b[39mset()\n",
      "\u001b[1;31mKeyboardInterrupt\u001b[0m: "
     ]
    }
   ],
   "source": [
    "import time\n",
    "from tqdm import tqdm\n",
    "from duckduckgo_search import DDGS\n",
    "\n",
    "companies  = [\n",
    "    \"Ecopetrol\", \"Enel\", \"Grupo Argos\", \"Terpel\", \"Vanti\", \"Promigas\", \"Bancolombia\", \"BBVA\", \"Grupo AVAL\", \"Davivienda\", \"Credibanco\",\n",
    "    \"Grupo Sura\", \"Itau\", \"Nequi\", \"Grupo Exito\", \"Cencosud\", \"Tiendas D1\", \"Alkosto\", \"Falabella\", \"Sodimac\", \"Caracol\", \"Claro\", \"ETB\",\n",
    "    'GeoPark', 'Brilla', 'Banco de Occidente', 'Cenit'\n",
    "    ]\n",
    "sources = ['larepublica', 'semana', 'eltiempo', 'lasillavacia', 'elcolombiano', 'portafolio', 'elespectador']\n",
    "sources_links = {\n",
    "    'semana': 'semana.com', 'larepublica': 'larepublica.co', 'eltiempo': 'eltiempo.com', 'lasillavacia': 'lasillavacia.com',\n",
    "    'elcolombiano': 'elcolombiano.com', 'portafolio': 'portafolio.co', 'elespectador': 'elespectador.com'\n",
    "    }\n",
    "\n",
    "search_results = {}\n",
    "pbar = tqdm(total=len(companies)*len(sources))\n",
    "\n",
    "for source in sources:\n",
    "    aux = {}\n",
    "    for company in companies:\n",
    "        pbar.update(1)\n",
    "        pbar.set_description(f'source:{source}-company:{company}')\n",
    "        time.sleep(3)\n",
    "        results = DDGS().text(\n",
    "            keywords=f'{company} site:{sources_links[source]}',\n",
    "            max_results=10,\n",
    "            safesearch='off',\n",
    "            timelimit='w'\n",
    "            )\n",
    "        if len(results):\n",
    "            aux[company] = [json_['href'] for json_ in results]\n",
    "    if len(aux):\n",
    "        search_results[source] = aux\n",
    "pbar.close()\n",
    "search_results"
   ]
  },
  {
   "cell_type": "code",
   "execution_count": 17,
   "metadata": {},
   "outputs": [],
   "source": [
    "from selenium import webdriver\n",
    "import time\n",
    "\n",
    "driver = webdriver.Chrome()\n",
    "driver.get(f'https://duckduckgo.com/?q={company}+site%3A{sources_links[source]}&t=h_&df=w&ia=web')\n",
    "time.sleep(3) # give page a chance to fully load\n",
    "content = driver.page_source\n",
    "driver.quit()"
   ]
  },
  {
   "cell_type": "code",
   "execution_count": 34,
   "metadata": {},
   "outputs": [],
   "source": [
    "import html2text\n",
    "string = html2text.html2text(content)"
   ]
  },
  {
   "cell_type": "code",
   "execution_count": 40,
   "metadata": {},
   "outputs": [
    {
     "data": {
      "text/plain": [
       "['www.larepublica.co.ico)](/?q=Ecopetrol%20site%3Alarepublica.co&t=h_ \"Search domain larepublica.co\")[https://www.larepublica.co › economia › ecopetrol-quiere-comprar-activos-de-canacol-3856926](https://www.larepublica.co/economia/ecopetrol-quiere-comprar-activos-de-canacol-3856926)\\n',\n",
       " 'www.larepublica.co/economia/ecopetrol-quiere-comprar-activos-de-\\n',\n",
       " 'www.larepublica.co.ico)](/?q=Ecopetrol%20site%3Alarepublica.co&t=h_ \"Search domain larepublica.co\")[https://www.larepublica.co › economia › el-estado-colombiano-paga-mas-de-20-billones-anuales-en-subsidio-de-diesel-3877082](https://www.larepublica.co/economia/el-estado-colombiano-paga-mas-de-20-billones-anuales-en-subsidio-de-diesel-3877082)\\n',\n",
       " 'www.larepublica.co/economia/el-estado-colombiano-paga-mas-\\n',\n",
       " 'www.larepublica.co.ico)](/?q=Ecopetrol%20site%3Alarepublica.co&t=h_ \"Search domain larepublica.co\")[https://www.larepublica.co › gas-natural](https://www.larepublica.co/gas-natural)\\n',\n",
       " 'www.larepublica.co/gas-natural)\\n',\n",
       " 'www.larepublica.co.ico)](/?q=Ecopetrol%20site%3Alarepublica.co&t=h_ \"Search domain larepublica.co\")[https://www.larepublica.co › empresas › grupo-epm-anuncio-que-sus-filiales-de-energia-se-acogeran-a-la-reduccion-tarifaria-3878808](https://www.larepublica.co/empresas/grupo-epm-anuncio-que-sus-filiales-de-energia-se-acogeran-a-la-reduccion-tarifaria-3878808)\\n',\n",
       " 'www.larepublica.co/empresas/grupo-epm-anuncio-que-sus-filiales-\\n',\n",
       " 'www.larepublica.co.ico)](/?q=Ecopetrol%20site%3Alarepublica.co&t=h_ \"Search domain larepublica.co\")[https://www.larepublica.co › energia-electrica](https://www.larepublica.co/energia-electrica)\\n',\n",
       " 'www.larepublica.co/energia-electrica)\\n',\n",
       " 'www.larepublica.co.ico)](/?q=Ecopetrol%20site%3Alarepublica.co&t=h_ \"Search domain larepublica.co\")[https://www.larepublica.co](https://www.larepublica.co/)\\n',\n",
       " 'www.larepublica.co/)\\n',\n",
       " 'www.larepublica.co.ico)](/?q=Ecopetrol%20site%3Alarepublica.co&t=h_ \"Search domain larepublica.co\")[ https://www.larepublica.co › grupo-energia-bogota](https://www.larepublica.co/grupo-energia-bogota)\\n',\n",
       " 'www.larepublica.co/grupo-\\n',\n",
       " 'www.larepublica.co.ico)](/?q=Ecopetrol%20site%3Alarepublica.co&t=h_ \"Search domain larepublica.co\")[https://www.larepublica.co › analisis › luis-antonio-orozco-3795239](https://www.larepublica.co/analisis/luis-antonio-orozco-3795239/)\\n',\n",
       " 'www.larepublica.co/analisis/luis-antonio-orozco-3795239/)\\n',\n",
       " 'www.larepublica.co.ico)](/?q=Ecopetrol%20site%3Alarepublica.co&t=h_ \"Search domain larepublica.co\")[https://www.larepublica.co › sector-agropecuario](https://www.larepublica.co/sector-agropecuario)\\n',\n",
       " 'www.larepublica.co/sector-agropecuario)\\n',\n",
       " 'www.larepublica.co.ico)](/?q=Ecopetrol%20site%3Alarepublica.co&t=h_ \"Search domain larepublica.co\")[https://www.larepublica.co › ultra-air](https://www.larepublica.co/ultra-air)\\n',\n",
       " 'www.larepublica.co/ultra-air)\\n']"
      ]
     },
     "execution_count": 40,
     "metadata": {},
     "output_type": "execute_result"
    }
   ],
   "source": [
    "import re\n",
    "re.findall(f'www.{sources_links[source]}.+\\n', string, flags=re.IGNORECASE)"
   ]
  },
  {
   "cell_type": "code",
   "execution_count": 63,
   "metadata": {},
   "outputs": [],
   "source": [
    "content\n",
    "links = pd.Series(re.findall(f'(<a href=\".*?\" rel)', content, flags=re.IGNORECASE))\n",
    "links = links.str.replace('<a href=', '').str.replace('\"', '').str.replace(' rel', '').drop_duplicates()"
   ]
  },
  {
   "cell_type": "code",
   "execution_count": 77,
   "metadata": {},
   "outputs": [
    {
     "data": {
      "text/plain": [
       "'https://www.larepublica.co/gas-natural'"
      ]
     },
     "execution_count": 77,
     "metadata": {},
     "output_type": "execute_result"
    }
   ],
   "source": [
    "links[links.str.contains(f'www.{sources_links[source]}', case=False)].iloc[2]"
   ]
  },
  {
   "cell_type": "code",
   "execution_count": null,
   "metadata": {},
   "outputs": [],
   "source": []
  }
 ],
 "metadata": {
  "kernelspec": {
   "display_name": "Python 3",
   "language": "python",
   "name": "python3"
  },
  "language_info": {
   "codemirror_mode": {
    "name": "ipython",
    "version": 3
   },
   "file_extension": ".py",
   "mimetype": "text/x-python",
   "name": "python",
   "nbconvert_exporter": "python",
   "pygments_lexer": "ipython3",
   "version": "3.10.0"
  }
 },
 "nbformat": 4,
 "nbformat_minor": 2
}
